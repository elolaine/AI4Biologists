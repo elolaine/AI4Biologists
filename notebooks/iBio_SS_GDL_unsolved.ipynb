{
  "nbformat": 4,
  "nbformat_minor": 5,
  "metadata": {
    "colab": {
      "name": "iBio_SS_GDL_unsolved.ipynb",
      "provenance": [],
      "collapsed_sections": [
        "wicked-boundary",
        "vWb3UrFwdpoy",
        "wug_1_eBWZbz",
        "77IKQilvYpDU",
        "uX_EBubdBFaU"
      ],
      "toc_visible": true,
      "include_colab_link": true
    },
    "kernelspec": {
      "display_name": "Python 3",
      "language": "python",
      "name": "python3"
    },
    "language_info": {
      "codemirror_mode": {
        "name": "ipython",
        "version": 3
      },
      "file_extension": ".py",
      "mimetype": "text/x-python",
      "name": "python",
      "nbconvert_exporter": "python",
      "pygments_lexer": "ipython3",
      "version": "3.8.2"
    }
  },
  "cells": [
    {
      "cell_type": "markdown",
      "metadata": {
        "id": "view-in-github",
        "colab_type": "text"
      },
      "source": [
        "<a href=\"https://colab.research.google.com/github/elolaine/AI4Biologists/blob/main/notebooks/iBio_SS_GDL_unsolved.ipynb\" target=\"_parent\"><img src=\"https://colab.research.google.com/assets/colab-badge.svg\" alt=\"Open In Colab\"/></a>"
      ]
    },
    {
      "cell_type": "markdown",
      "metadata": {
        "id": "xRGW1PXtulFJ"
      },
      "source": [
        "# Geometric Deep Learning for Molecules\n",
        "#### Sergei Grudinin<sup>1</sup>, Ilia Igashov<sup>1</sup>, Margot Selosse<sup>1</sup>, Dmitrii Zhemchuzhnikov<sup>1</sup> \n",
        "#### 1: [Graph Ticklers ... Fan Club](https://youtube.com/watch?v=pV-4HH6BxY0&t=29s&ab_channel=%E1%9B%97%E1%9B%81%E1%9A%BB%E1%9A%BB%E1%9A%A8%E1%9B%81%E1%9B%9A&t=29s)\n"
      ],
      "id": "xRGW1PXtulFJ"
    },
    {
      "cell_type": "markdown",
      "metadata": {
        "id": "LHXdgAXIu4pG"
      },
      "source": [
        "This tutorial will start with the introduction to the PyTorch Geometric library. It will then present a basic description of graph-learning architectures, including convolution and attention operations. The first examples will include binary classification of 3D protein structures. After, we will apply the presented architectures to the regression task for the properties prediction of small molecules in the QM9 dataset. In the end, we will introduce more advanced architectures, specifically constructed to be rotation and translation equivariant, for the property predictions of 3D molecular graphs."
      ],
      "id": "LHXdgAXIu4pG"
    },
    {
      "cell_type": "markdown",
      "metadata": {
        "id": "wicked-boundary"
      },
      "source": [
        "# Contents\n",
        "\n",
        "- Prerequisites\n",
        "- What are the graphs?\n",
        "- PyTorch Geometric and NetworkX basics\n",
        "- Graph notations\n",
        "- Message Passing\n",
        "- Graph Convolutional Network (GCN)\n",
        "- Graph Attention Network (GAT)\n",
        "- Graph Classification on PROTEINS dataset\n",
        "- Graph Regression with QM9 dataset\n",
        "- SchNet and Equivariance\n",
        "- Further reading"
      ],
      "id": "wicked-boundary"
    },
    {
      "cell_type": "markdown",
      "metadata": {
        "id": "complex-assault"
      },
      "source": [
        "# Prerequisites\n",
        "\n",
        "We will be using PyTorch Geometric and NetworkX – popular frameworks for working with graphs. \n",
        "\n"
      ],
      "id": "complex-assault"
    },
    {
      "cell_type": "code",
      "metadata": {
        "id": "swqT9LyNomJw",
        "outputId": "40cc6bef-3ea6-4818-8d4e-415376bb9fd9",
        "colab": {
          "base_uri": "https://localhost:8080/"
        }
      },
      "source": [
        "!pip install torch-scatter -f https://data.pyg.org/whl/torch-1.12.0+cpu.html\n",
        "!pip install torch-sparse -f https://data.pyg.org/whl/torch-1.12.0+cpu.html\n",
        "!pip install torch-cluster -f https://data.pyg.org/whl/torch-1.12.0+cpu.html\n",
        "!pip install torch-spline-conv -f https://data.pyg.org/whl/torch-1.12.0+cpu.html\n",
        "!pip install torch-geometric -f https://data.pyg.org/whl/torch-1.12.0+cpu.html\n",
        "!pip install ase\n",
        "\n",
        "!mkdir data"
      ],
      "id": "swqT9LyNomJw",
      "execution_count": 177,
      "outputs": [
        {
          "output_type": "stream",
          "name": "stdout",
          "text": [
            "Looking in indexes: https://pypi.org/simple, https://us-python.pkg.dev/colab-wheels/public/simple/\n",
            "Looking in links: https://data.pyg.org/whl/torch-1.12.0+cpu.html\n",
            "Requirement already satisfied: torch-scatter in /usr/local/lib/python3.7/dist-packages (2.0.9)\n",
            "Looking in indexes: https://pypi.org/simple, https://us-python.pkg.dev/colab-wheels/public/simple/\n",
            "Looking in links: https://data.pyg.org/whl/torch-1.12.0+cpu.html\n",
            "Requirement already satisfied: torch-sparse in /usr/local/lib/python3.7/dist-packages (0.6.14)\n",
            "Requirement already satisfied: scipy in /usr/local/lib/python3.7/dist-packages (from torch-sparse) (1.7.3)\n",
            "Requirement already satisfied: numpy<1.23.0,>=1.16.5 in /usr/local/lib/python3.7/dist-packages (from scipy->torch-sparse) (1.21.6)\n",
            "Looking in indexes: https://pypi.org/simple, https://us-python.pkg.dev/colab-wheels/public/simple/\n",
            "Looking in links: https://data.pyg.org/whl/torch-1.12.0+cpu.html\n",
            "Requirement already satisfied: torch-cluster in /usr/local/lib/python3.7/dist-packages (1.6.0)\n",
            "Looking in indexes: https://pypi.org/simple, https://us-python.pkg.dev/colab-wheels/public/simple/\n",
            "Looking in links: https://data.pyg.org/whl/torch-1.12.0+cpu.html\n",
            "Requirement already satisfied: torch-spline-conv in /usr/local/lib/python3.7/dist-packages (1.2.1)\n",
            "Looking in indexes: https://pypi.org/simple, https://us-python.pkg.dev/colab-wheels/public/simple/\n",
            "Looking in links: https://data.pyg.org/whl/torch-1.12.0+cpu.html\n",
            "Requirement already satisfied: torch-geometric in /usr/local/lib/python3.7/dist-packages (2.0.4)\n",
            "Requirement already satisfied: requests in /usr/local/lib/python3.7/dist-packages (from torch-geometric) (2.23.0)\n",
            "Requirement already satisfied: scipy in /usr/local/lib/python3.7/dist-packages (from torch-geometric) (1.7.3)\n",
            "Requirement already satisfied: tqdm in /usr/local/lib/python3.7/dist-packages (from torch-geometric) (4.64.0)\n",
            "Requirement already satisfied: pyparsing in /usr/local/lib/python3.7/dist-packages (from torch-geometric) (3.0.9)\n",
            "Requirement already satisfied: pandas in /usr/local/lib/python3.7/dist-packages (from torch-geometric) (1.3.5)\n",
            "Requirement already satisfied: scikit-learn in /usr/local/lib/python3.7/dist-packages (from torch-geometric) (1.0.2)\n",
            "Requirement already satisfied: numpy in /usr/local/lib/python3.7/dist-packages (from torch-geometric) (1.21.6)\n",
            "Requirement already satisfied: jinja2 in /usr/local/lib/python3.7/dist-packages (from torch-geometric) (2.11.3)\n",
            "Requirement already satisfied: MarkupSafe>=0.23 in /usr/local/lib/python3.7/dist-packages (from jinja2->torch-geometric) (2.0.1)\n",
            "Requirement already satisfied: python-dateutil>=2.7.3 in /usr/local/lib/python3.7/dist-packages (from pandas->torch-geometric) (2.8.2)\n",
            "Requirement already satisfied: pytz>=2017.3 in /usr/local/lib/python3.7/dist-packages (from pandas->torch-geometric) (2022.1)\n",
            "Requirement already satisfied: six>=1.5 in /usr/local/lib/python3.7/dist-packages (from python-dateutil>=2.7.3->pandas->torch-geometric) (1.15.0)\n",
            "Requirement already satisfied: chardet<4,>=3.0.2 in /usr/local/lib/python3.7/dist-packages (from requests->torch-geometric) (3.0.4)\n",
            "Requirement already satisfied: certifi>=2017.4.17 in /usr/local/lib/python3.7/dist-packages (from requests->torch-geometric) (2022.6.15)\n",
            "Requirement already satisfied: idna<3,>=2.5 in /usr/local/lib/python3.7/dist-packages (from requests->torch-geometric) (2.10)\n",
            "Requirement already satisfied: urllib3!=1.25.0,!=1.25.1,<1.26,>=1.21.1 in /usr/local/lib/python3.7/dist-packages (from requests->torch-geometric) (1.24.3)\n",
            "Requirement already satisfied: joblib>=0.11 in /usr/local/lib/python3.7/dist-packages (from scikit-learn->torch-geometric) (1.1.0)\n",
            "Requirement already satisfied: threadpoolctl>=2.0.0 in /usr/local/lib/python3.7/dist-packages (from scikit-learn->torch-geometric) (3.1.0)\n",
            "Looking in indexes: https://pypi.org/simple, https://us-python.pkg.dev/colab-wheels/public/simple/\n",
            "Requirement already satisfied: ase in /usr/local/lib/python3.7/dist-packages (3.22.1)\n",
            "Requirement already satisfied: numpy>=1.15.0 in /usr/local/lib/python3.7/dist-packages (from ase) (1.21.6)\n",
            "Requirement already satisfied: matplotlib>=3.1.0 in /usr/local/lib/python3.7/dist-packages (from ase) (3.2.2)\n",
            "Requirement already satisfied: scipy>=1.1.0 in /usr/local/lib/python3.7/dist-packages (from ase) (1.7.3)\n",
            "Requirement already satisfied: cycler>=0.10 in /usr/local/lib/python3.7/dist-packages (from matplotlib>=3.1.0->ase) (0.11.0)\n",
            "Requirement already satisfied: kiwisolver>=1.0.1 in /usr/local/lib/python3.7/dist-packages (from matplotlib>=3.1.0->ase) (1.4.4)\n",
            "Requirement already satisfied: python-dateutil>=2.1 in /usr/local/lib/python3.7/dist-packages (from matplotlib>=3.1.0->ase) (2.8.2)\n",
            "Requirement already satisfied: pyparsing!=2.0.4,!=2.1.2,!=2.1.6,>=2.0.1 in /usr/local/lib/python3.7/dist-packages (from matplotlib>=3.1.0->ase) (3.0.9)\n",
            "Requirement already satisfied: typing-extensions in /usr/local/lib/python3.7/dist-packages (from kiwisolver>=1.0.1->matplotlib>=3.1.0->ase) (4.1.1)\n",
            "Requirement already satisfied: six>=1.5 in /usr/local/lib/python3.7/dist-packages (from python-dateutil>=2.1->matplotlib>=3.1.0->ase) (1.15.0)\n",
            "mkdir: cannot create directory ‘data’: File exists\n"
          ]
        }
      ]
    },
    {
      "cell_type": "markdown",
      "metadata": {
        "id": "K16Tr5cK5N4D"
      },
      "source": [
        "In case you are going to run the notebook locally, you may need to do some additional installations (if you do not have this packages installed yet):\n",
        "\n",
        "* `numpy`\n",
        "* `matplotlib`\n",
        "* `torch`\n",
        "* `tqdm`\n",
        "* `networkx`"
      ],
      "id": "K16Tr5cK5N4D"
    },
    {
      "cell_type": "markdown",
      "source": [
        "# What are the graphs?\n",
        "\n",
        "A graph is a structure consisting of nodes and edges between them. For each node, we know the set of its neighbors and sometimes features of this node and edges with the neighbors. There are two types of graphs: directed and undirected.\n",
        "\n",
        "\n",
        "\n",
        "<table><tr>\n",
        "<td> \n",
        "  <p align=\"center\" style=\"padding: 10px\">\n",
        "    <img alt=\"Forwarding\" src=\"https://drive.google.com/uc?export=view&id=1AeCq5cwRxc3qESttp7_l6OJVlK9RdEDo\" width=\"500\">\n",
        "    <br>\n",
        "    <em style=\"color: grey\">Undirected graph (just connections)</em>\n",
        "  </p> \n",
        "</td>\n",
        "<td> \n",
        "  <p align=\"center\">\n",
        "    <img alt=\"Routing\" src=\"https://drive.google.com/uc?export=view&id=1TJKORu9rbOob3VhoqrW_iZR9VO_aFFSb\" width=\"500\">\n",
        "    <br>\n",
        "    <em style=\"color: grey\">Directed graph (financial flows)</em>\n",
        "  </p> \n",
        "</td>\n",
        "</tr></table>"
      ],
      "metadata": {
        "id": "oBs1gaAfvjCE"
      },
      "id": "oBs1gaAfvjCE"
    },
    {
      "cell_type": "markdown",
      "metadata": {
        "id": "close-dairy"
      },
      "source": [
        "# PyTorch Geometric and NetworkX basics"
      ],
      "id": "close-dairy"
    },
    {
      "cell_type": "markdown",
      "metadata": {
        "id": "stable-reconstruction"
      },
      "source": [
        "We will use [PyTorch Geometric](https://pytorch-geometric.readthedocs.io/en/latest/) (PyG) framework as the main tool for working with graphs. It provides a convenient functionality for operating on:\n",
        "- [graph structures](https://pytorch-geometric.readthedocs.io/en/latest/modules/data.html)\n",
        "- [graph-learning models](https://pytorch-geometric.readthedocs.io/en/latest/modules/nn.html)\n",
        "- [common graph datasets](https://pytorch-geometric.readthedocs.io/en/latest/modules/datasets.html)\n",
        "\n",
        "Besides, [NetworkX](https://networkx.org/) (NX) library is useful for graph visualization."
      ],
      "id": "stable-reconstruction"
    },
    {
      "cell_type": "code",
      "metadata": {
        "id": "progressive-diamond"
      },
      "source": [
        "import torch\n",
        "import networkx as nx\n",
        "\n",
        "from torch_geometric.data import Data\n",
        "from torch_geometric.loader import DataLoader\n",
        "from torch_geometric.utils import to_networkx"
      ],
      "id": "progressive-diamond",
      "execution_count": 178,
      "outputs": []
    },
    {
      "cell_type": "markdown",
      "source": [
        "<script>\n",
        "MathJax.Hub.Config({\n",
        "    TeX: { equationNumbers: { autoNumber: \"AMS\" } }\n",
        "});\n",
        "</script>"
      ],
      "metadata": {
        "id": "ijUNge4Pqk1k"
      },
      "id": "ijUNge4Pqk1k"
    },
    {
      "cell_type": "markdown",
      "metadata": {
        "id": "municipal-legend"
      },
      "source": [
        "Let's create a simple graph with four nodes and four edges, where each node $v_i$ will have an associated feature value, its index $i$:\n",
        "<img align=\"middle\" src=\"data:image/png;base64,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\" width=\"200\"/>"
      ],
      "id": "municipal-legend"
    },
    {
      "cell_type": "markdown",
      "source": [
        "**Note:** PyG treats the graph as **directed** by default. Therefore, our **undirected** graph with 4 edges, we represent as a **directed** graph with 8 edges.\n",
        "\n",
        "<img align=\"middle\" src=\"data:image/png;base64,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\" width=\"200\"/>\n",
        "\n"
      ],
      "metadata": {
        "id": "uA9gPWK4HmWz"
      },
      "id": "uA9gPWK4HmWz"
    },
    {
      "cell_type": "code",
      "metadata": {
        "id": "respected-adaptation"
      },
      "source": [
        "# node features – indices:\n",
        "x = torch.tensor([[0], [1], [2], [3]], dtype=torch.long)\n",
        "\n",
        "# edges of the graph:\n",
        "edge_index = torch.tensor(\n",
        "    [\n",
        "        [0, 0, 0, 1, 1, 2, 3, 3],\n",
        "        [1, 2, 3, 0, 3, 0, 0, 1],\n",
        "    ], \n",
        "    dtype=torch.long\n",
        ")\n",
        "\n",
        "# PyG graph:\n",
        "pg_graph = Data(x=x, edge_index=edge_index)"
      ],
      "id": "respected-adaptation",
      "execution_count": 179,
      "outputs": []
    },
    {
      "cell_type": "markdown",
      "metadata": {
        "id": "apparent-medicaid"
      },
      "source": [
        "Let's look at the created PyG graph object:"
      ],
      "id": "apparent-medicaid"
    },
    {
      "cell_type": "code",
      "metadata": {
        "id": "dense-thinking",
        "outputId": "660c71dc-50c1-4457-e041-28f56176c801",
        "colab": {
          "base_uri": "https://localhost:8080/"
        }
      },
      "source": [
        "pg_graph"
      ],
      "id": "dense-thinking",
      "execution_count": 180,
      "outputs": [
        {
          "output_type": "execute_result",
          "data": {
            "text/plain": [
              "Data(x=[4, 1], edge_index=[2, 8])"
            ]
          },
          "metadata": {},
          "execution_count": 180
        }
      ]
    },
    {
      "cell_type": "markdown",
      "metadata": {
        "id": "native-psychiatry"
      },
      "source": [
        "Useful graph attributes:"
      ],
      "id": "native-psychiatry"
    },
    {
      "cell_type": "code",
      "metadata": {
        "id": "recent-shame",
        "outputId": "2c742400-58a5-43b1-91fb-f6f342eb65be",
        "colab": {
          "base_uri": "https://localhost:8080/"
        }
      },
      "source": [
        "print('Number of nodes in the graph:', pg_graph.num_nodes)\n",
        "print('Number of edges in the graph:', pg_graph.num_edges)\n",
        "print('Number of node features:', pg_graph.num_node_features)"
      ],
      "id": "recent-shame",
      "execution_count": 181,
      "outputs": [
        {
          "output_type": "stream",
          "name": "stdout",
          "text": [
            "Number of nodes in the graph: 4\n",
            "Number of edges in the graph: 8\n",
            "Number of node features: 1\n"
          ]
        }
      ]
    },
    {
      "cell_type": "markdown",
      "metadata": {
        "id": "public-optimum"
      },
      "source": [
        "Note that `edge_index`, i.e. the tensor defining the source and target nodes of all edges, **is not a list of index tuples**. If you want to write your indices this way, you should transpose and call `contiguous` on it before passing them to the data constructor:"
      ],
      "id": "public-optimum"
    },
    {
      "cell_type": "code",
      "metadata": {
        "id": "expanded-spray",
        "outputId": "8d8fe2c0-b830-4432-ba9a-ddd07dc13e30",
        "colab": {
          "base_uri": "https://localhost:8080/"
        }
      },
      "source": [
        "edge_index = torch.tensor(\n",
        "    [\n",
        "        [0, 1],\n",
        "        [0, 2],\n",
        "        [0, 3],\n",
        "        [1, 0],\n",
        "        [1, 3], \n",
        "        [2, 0],\n",
        "        [3, 0],\n",
        "        [3, 1],\n",
        "    ], \n",
        "    dtype=torch.long\n",
        ")\n",
        "\n",
        "edge_index.t().contiguous()"
      ],
      "id": "expanded-spray",
      "execution_count": 182,
      "outputs": [
        {
          "output_type": "execute_result",
          "data": {
            "text/plain": [
              "tensor([[0, 0, 0, 1, 1, 2, 3, 3],\n",
              "        [1, 2, 3, 0, 3, 0, 0, 1]])"
            ]
          },
          "metadata": {},
          "execution_count": 182
        }
      ]
    },
    {
      "cell_type": "markdown",
      "metadata": {
        "id": "sized-portugal"
      },
      "source": [
        "Let's transform PyG graph to the NX format and draw the resulting graph:"
      ],
      "id": "sized-portugal"
    },
    {
      "cell_type": "code",
      "metadata": {
        "id": "blank-walker",
        "outputId": "dbc762c8-a1b0-4cc5-e708-0e4d43501d34",
        "colab": {
          "base_uri": "https://localhost:8080/",
          "height": 319
        }
      },
      "source": [
        "# transform:\n",
        "nx_graph = to_networkx(pg_graph)\n",
        "\n",
        "# draw:\n",
        "nx.draw(\n",
        "    nx_graph, \n",
        "    font_size=10,\n",
        "    width=0.5, \n",
        "    with_labels=True,\n",
        "    labels={i: f'v{pg_graph.x[i][0]}' for i in range(pg_graph.num_nodes)},\n",
        ")"
      ],
      "id": "blank-walker",
      "execution_count": 183,
      "outputs": [
        {
          "output_type": "display_data",
          "data": {
            "text/plain": [
              "<Figure size 432x288 with 1 Axes>"
            ],
            "image/png": "[encoded data removed]"
          },
          "metadata": {}
        }
      ]
    },
    {
      "cell_type": "markdown",
      "metadata": {
        "id": "hungry-draft"
      },
      "source": [
        "Now let's create the second simple graph with two nodes and one edge:"
      ],
      "id": "hungry-draft"
    },
    {
      "cell_type": "code",
      "metadata": {
        "id": "ongoing-convergence",
        "outputId": "fea8fe32-1c07-4811-8499-417410b7ca95",
        "colab": {
          "base_uri": "https://localhost:8080/",
          "height": 319
        }
      },
      "source": [
        "second_pg_graph = Data(\n",
        "    x=torch.tensor([[10], [11]], dtype=torch.long),\n",
        "    edge_index=torch.tensor([[0, 1], [1, 0]], dtype=torch.long),\n",
        ")\n",
        "\n",
        "second_nx_graph = to_networkx(second_pg_graph)\n",
        "\n",
        "nx.draw(\n",
        "    second_nx_graph, \n",
        "    font_size=10,\n",
        "    width=0.5, \n",
        "    with_labels=True,\n",
        "    labels={i: f'v{second_pg_graph.x[i][0]}' for i in range(second_pg_graph.num_nodes)},\n",
        ")"
      ],
      "id": "ongoing-convergence",
      "execution_count": 184,
      "outputs": [
        {
          "output_type": "display_data",
          "data": {
            "text/plain": [
              "<Figure size 432x288 with 1 Axes>"
            ],
            "image/png": "[encoded data removed]"
          },
          "metadata": {}
        }
      ]
    },
    {
      "cell_type": "markdown",
      "metadata": {
        "id": "nasty-hospital"
      },
      "source": [
        "Let's put both graphs into DataLoader with `batch_size=2`:"
      ],
      "id": "nasty-hospital"
    },
    {
      "cell_type": "code",
      "metadata": {
        "id": "thirty-shelf"
      },
      "source": [
        "loader = DataLoader([pg_graph, second_pg_graph], batch_size=2)"
      ],
      "id": "thirty-shelf",
      "execution_count": 185,
      "outputs": []
    },
    {
      "cell_type": "markdown",
      "metadata": {
        "id": "proprietary-motion"
      },
      "source": [
        "Let's check how many batches the loader is going to generate:"
      ],
      "id": "proprietary-motion"
    },
    {
      "cell_type": "code",
      "metadata": {
        "id": "appreciated-drunk",
        "outputId": "0ef2d44d-a0ce-4bac-9f51-58b66dcac3ac",
        "colab": {
          "base_uri": "https://localhost:8080/"
        }
      },
      "source": [
        "len(loader)"
      ],
      "id": "appreciated-drunk",
      "execution_count": 186,
      "outputs": [
        {
          "output_type": "execute_result",
          "data": {
            "text/plain": [
              "1"
            ]
          },
          "metadata": {},
          "execution_count": 186
        }
      ]
    },
    {
      "cell_type": "markdown",
      "metadata": {
        "id": "active-estimate"
      },
      "source": [
        "Let's see what the loader yields:"
      ],
      "id": "active-estimate"
    },
    {
      "cell_type": "code",
      "metadata": {
        "id": "scientific-verse",
        "outputId": "9e50af11-d3c0-4a59-b15c-30b4911bd36b",
        "colab": {
          "base_uri": "https://localhost:8080/"
        }
      },
      "source": [
        "for batch in loader:\n",
        "    print(batch)"
      ],
      "id": "scientific-verse",
      "execution_count": 187,
      "outputs": [
        {
          "output_type": "stream",
          "name": "stdout",
          "text": [
            "DataBatch(x=[6, 1], edge_index=[2, 10], batch=[6], ptr=[3])\n"
          ]
        }
      ]
    },
    {
      "cell_type": "markdown",
      "metadata": {
        "id": "expected-season"
      },
      "source": [
        "The batch object is very similar to the `Data` object, but it has additonal attribute `ptr` that defines ranges of nodes' indices that belong to different graphs in the batch:"
      ],
      "id": "expected-season"
    },
    {
      "cell_type": "code",
      "metadata": {
        "id": "effective-broadcast",
        "outputId": "750a05ae-648e-46d8-dbfd-8d85aec5c9a8",
        "colab": {
          "base_uri": "https://localhost:8080/"
        }
      },
      "source": [
        "batch.ptr"
      ],
      "id": "effective-broadcast",
      "execution_count": 188,
      "outputs": [
        {
          "output_type": "execute_result",
          "data": {
            "text/plain": [
              "tensor([0, 4, 6])"
            ]
          },
          "metadata": {},
          "execution_count": 188
        }
      ]
    },
    {
      "cell_type": "code",
      "metadata": {
        "id": "_FXpL0Uxt5dV",
        "outputId": "c8139ce5-33b7-4bd6-9f8a-96e47f171a18",
        "colab": {
          "base_uri": "https://localhost:8080/"
        }
      },
      "source": [
        "batch.batch"
      ],
      "id": "_FXpL0Uxt5dV",
      "execution_count": 189,
      "outputs": [
        {
          "output_type": "execute_result",
          "data": {
            "text/plain": [
              "tensor([0, 0, 0, 0, 1, 1])"
            ]
          },
          "metadata": {},
          "execution_count": 189
        }
      ]
    },
    {
      "cell_type": "markdown",
      "metadata": {
        "id": "provincial-directive"
      },
      "source": [
        "That means that nodes with indices $0\\leq{i}<4$ belong to the first graph in the batch, and nodes with indices $4\\leq{i}<6$ belong to the second graph in a batch. For checking that, let's take a look at the attribute `x` of the batch:"
      ],
      "id": "provincial-directive"
    },
    {
      "cell_type": "code",
      "metadata": {
        "id": "radical-blind",
        "outputId": "1fc15ce8-6905-48d0-95c8-a80d6b23acec",
        "colab": {
          "base_uri": "https://localhost:8080/"
        }
      },
      "source": [
        "batch.x"
      ],
      "id": "radical-blind",
      "execution_count": 190,
      "outputs": [
        {
          "output_type": "execute_result",
          "data": {
            "text/plain": [
              "tensor([[ 0],\n",
              "        [ 1],\n",
              "        [ 2],\n",
              "        [ 3],\n",
              "        [10],\n",
              "        [11]])"
            ]
          },
          "metadata": {},
          "execution_count": 190
        }
      ]
    },
    {
      "cell_type": "markdown",
      "metadata": {
        "id": "complimentary-disabled"
      },
      "source": [
        "So the batch of size $B$ can be thought as a new big graph that contains $B$ disjoint components corresponding to the graphs included in this batch:"
      ],
      "id": "complimentary-disabled"
    },
    {
      "cell_type": "code",
      "metadata": {
        "id": "square-brunei",
        "outputId": "b2113319-6bfe-4969-a9a1-e1d3793d2a20",
        "colab": {
          "base_uri": "https://localhost:8080/",
          "height": 319
        }
      },
      "source": [
        "nx_batch = to_networkx(batch)\n",
        "\n",
        "nx.draw(\n",
        "    nx_batch, \n",
        "    font_size=10,\n",
        "    width=0.5, \n",
        "    with_labels=True,\n",
        "    labels={i: f'v{batch.x[i][0]}' for i in range(batch.num_nodes)},\n",
        ")"
      ],
      "id": "square-brunei",
      "execution_count": 191,
      "outputs": [
        {
          "output_type": "display_data",
          "data": {
            "text/plain": [
              "<Figure size 432x288 with 1 Axes>"
            ],
            "image/png": "[encoded data removed]"
          },
          "metadata": {}
        }
      ]
    },
    {
      "cell_type": "markdown",
      "metadata": {
        "id": "vWb3UrFwdpoy"
      },
      "source": [
        "# Graph notations\n",
        "\n",
        "Let's consider an *undirected graph* $G=(V, E)$, where $V$ is the set of nodes and $E$ is the set of edges.\n",
        "For a graph node $u\\in V$, we define its neighborhood as \n",
        "\n",
        "$$\n",
        "N(u)=\\{v\\in{V}\\ |\\ (u,v)\\in E\\}.\n",
        "$$\n",
        "\n",
        "The adjacency matrix $\\boldsymbol{A}$ of graph $G$ is a square $|V|\\times|V|$ symmetric matrix where each entry relates to an edge between the corresponding nodes. In case of the *weigted* graph, when each edge $(v_i,v_j)\\in E$ has weight $w_{ij}\\in\\mathbb{R}$, the corresponding entry of the adjacency matrix $a_{ij}$ equals to this weight:\n",
        "\n",
        "$$\n",
        "\\forall {i,j}\\in\\{1,\\dots,|V|\\}\\ \\ \\ \\ a_{ij}=\n",
        "\\begin{cases}\n",
        "w_{ij},\\ &\\text{if}\\ (v_i,v_j)\\in{E},\\\\\n",
        "0,\\ &\\text{if}\\ (v_i,v_j)\\notin{E}.\n",
        "\\end{cases}\n",
        "$$\n",
        "\n",
        "\n",
        "In case of the *unweighted* graph, the adjacency matrix is binary:\n",
        "\n",
        "$$\n",
        "\\forall {i,j}\\in\\{1,\\dots,|V|\\}\\ \\ \\ \\ a_{ij}=\n",
        "\\begin{cases}\n",
        "1,\\ &\\text{if}\\ (v_i,v_j)\\in{E},\\\\\n",
        "0,\\ &\\text{if}\\ (v_i,v_j)\\notin{E}.\n",
        "\\end{cases}\n",
        "$$"
      ],
      "id": "vWb3UrFwdpoy"
    },
    {
      "cell_type": "markdown",
      "metadata": {
        "id": "documentary-album"
      },
      "source": [
        "# Message Passing\n",
        "\n",
        "Graph Neural Networks (GNNs) rely on a more generic framework referred to as \"Message Passing\" that proceeds as follows.\n",
        "\n",
        "Assume that each node $v_i$ of the input graph $G$ has an associated vector of features $\\boldsymbol{z}_i^{0}$ of size $d^0$. Consider $K$ message-passing layers. \n",
        "\n",
        "For $k \\in \\{1,\\ldots,K\\}$:\n",
        "\n",
        "* For all nodes $v_i$ and for all its neighbours, we build a message $\\color{red}{\\boldsymbol{m}_{ij}^{k}}$ with some differentiable function $\\phi$:\n",
        "\n",
        "\\begin{equation}\n",
        "\\color{red}{\\boldsymbol{m}_{ij}^{k} \\leftarrow \\phi(z_i^{k-1},z_j^{k-1})},  \\tag{1} \n",
        "\\end{equation}\n",
        "\n",
        "\n",
        "* We aggregate the messages in $\\color{green}{\\boldsymbol{h}_i^{k}}$, a vector of size $d^{k-1}$, using some differentiable and permutation invariant function AGGR:\n",
        "\n",
        "\\begin{equation}\n",
        "\\color{green}{\\boldsymbol{h}_i^{k} \\leftarrow \\text{AGGR}(\\{ \\color{red}{\\boldsymbol{m}_{ij}^{k}}, \\forall v_j \\in N(v_i)  \\}, \\color{red}{\\boldsymbol{m}_{ii}^{k}})},\\tag{2}\n",
        "\\end{equation}\n",
        "\n",
        "* We build a new embedding $\\boldsymbol{z}^{k}_i$ for each node $v_i$ with $\\boldsymbol{W}^{k}$ a matrix of size $d^{k}\\times d^{k-1}$:\n",
        "\n",
        "$$\n",
        "\\boldsymbol{z}^{k}_i \\leftarrow \\sigma(\\boldsymbol{W}^{k} . \\color{green}{\\boldsymbol{h}_i^{k}}).\\tag{3}\n",
        "$$\n",
        "    \n",
        "\n",
        "Finally, we set the embedding of node $i$ as $\\boldsymbol{z}_i=\\boldsymbol{z}^{K}_i$.\n",
        "\n",
        "<div>\n",
        "<img src=\"https://miro.medium.com/max/1400/1*fPzRm3Flq3dQErn7LEG_Ig.png\" width=\"900\"/>\n",
        "</div>"
      ],
      "id": "documentary-album"
    },
    {
      "cell_type": "markdown",
      "metadata": {
        "id": "alive-simpson"
      },
      "source": [
        "Note that the user has to choose:\n",
        "\n",
        "* the number of layers $K$,\n",
        "* The $\\phi$ function,\n",
        "* the AGGR function, which is an aggregation function (e.g: max, sum, mean),\n",
        "* the dimensions $d^{k}$ for $k \\geq 1$\n",
        "* $\\sigma$, which is a non-linear function (e.g ReLU)."
      ],
      "id": "alive-simpson"
    },
    {
      "cell_type": "markdown",
      "source": [
        "### How to aggregate?\n",
        "\n",
        "When we want to update the feature vector $z'_i$ of a node at some layer we use the following data from the previous layer:\n",
        "\n",
        "  1. the message from this node to itself $m_{i,i}$ \n",
        "  2. the *multiset* of messages from its neighbors  to this node \\begin{equation}\\{m_{i,j}, \\forall v_j \\in N(v_i) \\} \\end{equation}\n",
        "\n",
        "We say *multiset* because the neighborhood of each node is unordered but there can be repeating messages. \n",
        "\n",
        "**How can we process a *multiset*?**\n",
        "\n",
        "There are several main approaches:\n",
        "\n",
        "  1. *Mean*:\n",
        "    \\begin{equation}\n",
        "      f(\\{m_{i,j}, \\forall v_j \\in N(v_i) \\}) = \\color{red}{\\frac{1}{\\text{deg}(v_i)}}  \\sum_{v_j \\in N(v_i)} m_{i,j},\n",
        "    \\end{equation}\n",
        "  where $\\text{deg}(v)$ is a degree of the node $v$:\n",
        "\n",
        "$$\n",
        "\\text{deg}(v) = \\sum_{u\\in{V}}\\mathbb{I}\\{(u,v)\\in{E}\\}.\n",
        "$$\n",
        "  \n",
        "  2. *Sum*:\n",
        "    \\begin{equation}\n",
        "      f(\\{m_{i,j}, \\forall v_j \\in N(v_i) \\}) =  \\sum_{v_j \\in N(v_i)} m_{i,j} \n",
        "    \\end{equation}\n",
        "\n",
        "  3. *Max*\n",
        "    \\begin{equation}\n",
        "      f(\\{m_{i,j}, \\forall v_j \\in N(v_i) \\}) =  \\max(\\{m_{i,j}, \\forall v_j \\in N(v_i) \\}),\n",
        "    \\end{equation}\n",
        "  if we can propose a way how to compare messages:\n",
        "  $$\n",
        "  \\forall v_j, v_k: m_{i,j} < m_{i,k} \\text{ or } m_{i,j} = m_{i,k} \\text{ or } m_{i,j} > m_{i,k}  \n",
        "  $$\n",
        "\n",
        "\n",
        "**What type of multiset aggregation is better?**\n",
        "\n",
        "We would like to choose the most expressive aggregation where by expressiveness we mean the ability to distinguish different multisets. Let's assume that different colors are assigned to different messages values and consider this illustration:\n",
        "\n",
        "<div>\n",
        "<img src=\"https://drive.google.com/uc?export=view&id=1RcqOiDRgXMUS20aup3QSnZHDqQ9Bj6ox\" width=\"900\"/>\n",
        "</div>\n",
        "\n",
        "[HOW POWERFUL ARE GRAPH NEURAL NETWORKS?](https://arxiv.org/pdf/1810.00826.pdf)\n",
        "\n",
        "On the picture we see that in some cases *mean* and *max* aggregations are less expressive than the *sum*  aggregation. Moreover, we can conclude that the *sum* aggregation is the most suitable for multisets:\n",
        "<div>\n",
        "<img src=\"https://drive.google.com/uc?export=view&id=1o_PJw9AjvhI4ZGw9YpFbH2VDgRO2-bx2\" width=\"900\"/>\n",
        "</div>\n",
        "\n",
        "Graoh Neural Networks very often engage some mix of *mean* and *sum* aggregations that has the same expressiveness as the *sum*:\n",
        "\n",
        "\\begin{equation}\n",
        "      f(\\{m_{i,j}, \\forall v_j \\in N(v_i) \\}) = \\color{red}{\\frac{1}{\\sqrt{\\text{deg}(v_i)}}}  \\sum_{v_j \\in N(v_i)} m_{i,j}.\n",
        "\\end{equation}\n",
        "\n",
        "In fact, the choice of multipliers in this sum is the matter of normalization that we consider later, but the expressiveness of the *sum* aggregation should be achieved. \n"
      ],
      "metadata": {
        "id": "wug_1_eBWZbz"
      },
      "id": "wug_1_eBWZbz"
    },
    {
      "cell_type": "markdown",
      "metadata": {
        "id": "streaming-broadcasting"
      },
      "source": [
        "## Graph Convolutional Network\n",
        "\n",
        "* [original paper](https://arxiv.org/abs/1609.02907)\n",
        "* [original code](https://github.com/tkipf/gcn)\n",
        "\n",
        "The Graph Convolutional Network (GCN) is a graph neural network that implements the Message Passing framework such that:\n",
        "\n",
        "$$\n",
        "\\boldsymbol{z}'_i = \\sigma\\left[\n",
        "\\color{green}{\\sum_{v_j\\in{N}(v_i)\\cup\\{v_i\\}}}\n",
        "\\color{red}{\n",
        "\\frac{1}{\\sqrt{\\text{deg}(v_i) + 1}\\sqrt{\\text{deg}(v_j) + 1}}\n",
        "}\n",
        "\\boldsymbol{\\Theta}\\boldsymbol{z}_j\\right]\n",
        ",\\tag{4}\n",
        "$$\n",
        "\n",
        "where $\\boldsymbol{\\Theta}$ is a weight matrix, and $\\text{deg}(v)$ is a degree of the node $v$:\n",
        "\n",
        "$$\n",
        "\\text{deg}(v) = \\sum_{u\\in{V}}\\mathbb{I}\\{(u,v)\\in{E}\\}.\\tag{5}\n",
        "$$\n",
        "\n",
        "**Note:** for simplicity, we dropped indices $k$ corresponding to the layer's number. Instead, we use prime `'` as an indication of the updated embeddings. We assume that each node $v_i$ has an embedding vector $\\boldsymbol{z}_i\\in\\mathbb{R}^d$ before applying the convolution layer, and gets an updated embedding vector $\\boldsymbol{z}'_i\\in\\mathbb{R}^{d'}$ after applying the convolution layer."
      ],
      "id": "streaming-broadcasting"
    },
    {
      "cell_type": "markdown",
      "source": [
        "### GCN modifications\n",
        "  1. $$\n",
        "\\boldsymbol{z}'_i = \\sigma\\left[\n",
        "\\color{green}{\\sum_{v_j\\in{N}(v_i)}}\n",
        "\\color{red}{\n",
        "\\frac{1}{\\sqrt{\\text{deg}(v_i)}\\sqrt{\\text{deg}(v_j)}}\n",
        "}\n",
        "\\boldsymbol{\\Theta_1}\\boldsymbol{z}_j + \\boldsymbol{\\Theta_2}\\boldsymbol{z}_i \\right], \\tag{6} \n",
        "$$ \n",
        "Here we impose different weight matrices on the features vector of the node and on the sum of the features vectors of its neighbors\n",
        "\n",
        "**Note:** We make the assumption that each node has at least one neighbor\n",
        "\n",
        "  \n",
        "  2. $$\n",
        "\\boldsymbol{z}'_i = \\sigma\\left[\\sigma\\left(\n",
        "\\color{green}{\\sum_{v_j\\in{N}(v_i)}}\n",
        "\\color{red}{\n",
        "\\frac{1}{\\sqrt{\\text{deg}(v_i)}\\sqrt{\\text{deg}(v_j)}}\n",
        "}\n",
        "\\boldsymbol{\\Theta_1}\\boldsymbol{z}_j\\right)  + \\boldsymbol{\\Theta_2}\\boldsymbol{z}_i \\right] , \\tag{7} \n",
        "$$ \n",
        "We apply an activation function on the terms considered in the previous paragraph separately, and then add them"
      ],
      "metadata": {
        "id": "77IKQilvYpDU"
      },
      "id": "77IKQilvYpDU"
    },
    {
      "cell_type": "markdown",
      "source": [
        "### Normalization\n",
        "\n",
        "There can also be different types of normalization. Apart from the normalization presented in Equation 4, we can also apply the following normalization:\n",
        "$$\n",
        "\\boldsymbol{z}'_i = \\sigma\\left[\n",
        "\\color{green}{\\sum_{v_j\\in{N}(v_i)\\cup\\{v_i\\}}}\n",
        "\\color{red}{\n",
        "\\frac{1}{\\text{deg}(v_j) + 1}\n",
        "}\n",
        "\\boldsymbol{\\Theta}\\boldsymbol{z}_j\\right]\n",
        ",\\tag{8}\n",
        "$$"
      ],
      "metadata": {
        "id": "wqm4Ko3Hq5wl"
      },
      "id": "wqm4Ko3Hq5wl"
    },
    {
      "cell_type": "markdown",
      "source": [
        "## Graph Isomorphic Network\n",
        "The Graph Isomorphic Network (GIN) is a graph neural network that implements the Message Passing framework such that:\n",
        "\n",
        "\\begin{equation}\n",
        "z'_i = \\text{MLP}(\\color{red}{(1 + \\epsilon)}z_i + \\color{green}{\\sum_{v_j \\in N(v_i)}} z_j) \\tag{9}\n",
        "\\end{equation}\n",
        "\n",
        "However, we will test different aggregations:\n",
        "\\begin{equation}\n",
        "z'_i = \\text{MLP}(\\color{red}{(1 + \\epsilon)}z_i + \\color{green}{\\text{Agg}} (\\{z_j, \\forall v_j \\in N(v_j)\\})) \\tag{10}\n",
        "\\end{equation}"
      ],
      "metadata": {
        "id": "n4zhK2NL4gjY"
      },
      "id": "n4zhK2NL4gjY"
    },
    {
      "cell_type": "markdown",
      "metadata": {
        "id": "synthetic-shade"
      },
      "source": [
        "## Graph Attention Network\n",
        "\n",
        "* [original paper](https://arxiv.org/abs/1710.10903)\n",
        "* [original code](https://github.com/PetarV-/GAT)\n",
        "\n",
        "\n",
        "The Graph Attention Network (GAT) is a graph neural network that implements the Message Passing framework such that:\n",
        "\n",
        "$$\n",
        "\\boldsymbol{z}'_i = \\sigma\\left[\n",
        "\\color{green}{\\sum_{v_j\\in{N}(v_i)\\cup\\{v_i\\}}}\n",
        "\\color{red}{\n",
        "\\alpha_{ij} \n",
        "}\n",
        "\\boldsymbol{\\Theta}\\boldsymbol{z}_j\\right]\n",
        ",\\tag{11}\n",
        "$$\n",
        "\n",
        "where attention coefficients $\\alpha_{ij}$ are computed as follows,\n",
        "\n",
        "$$\n",
        "\\alpha_{ij}=\\frac{\n",
        "\\exp\\big(\\text{LeakyReLU}\\big(\\boldsymbol{a}^{\\text{T}}[\\boldsymbol{\\Theta}\\boldsymbol{z}_i||\\boldsymbol{\\Theta}\\boldsymbol{z}_j]\\big)\\big)\n",
        "}{\n",
        "\\sum_{v_m\\in{N(v_i)}}\\exp\\big(\\text{LeakyReLU}\\big(\\boldsymbol{a}^{\\text{T}}[\\boldsymbol{\\Theta}\\boldsymbol{z}_i||\\boldsymbol{\\Theta}\\boldsymbol{z}_m]\\big)\\big)\n",
        "}.\\tag{12}\n",
        "$$\n",
        "\n",
        "Here, $||$ represents concatenation, and $\\boldsymbol{a}\\in\\mathbb{R}^{2d'}$ is a vector of learnable parameters.\n",
        "\n",
        "**Note:** for simplicity, we dropped indices $k$ corresponding to the layer's number. Instead, we use prime `'` as an indication of the updated embeddings. We assume that each node $v_i$ has an embedding vector $\\boldsymbol{z}_i\\in\\mathbb{R}^d$ before applying the convolution layer, and gets an updated embedding vector $\\boldsymbol{z}'_i\\in\\mathbb{R}^{d'}$ after applying the convolution layer."
      ],
      "id": "synthetic-shade"
    },
    {
      "cell_type": "markdown",
      "metadata": {
        "id": "looMNPALwwBs"
      },
      "source": [
        "<div>\n",
        "<img src=\"https://miro.medium.com/max/1036/1*3D844_twutCaunYMPuo-Sw.png\" width=\"400\"/>\n",
        "</div>"
      ],
      "id": "looMNPALwwBs"
    },
    {
      "cell_type": "markdown",
      "metadata": {
        "id": "organic-antique"
      },
      "source": [
        "To stabilize the learning process of self-attention, we use *multi-head attention*. To do this we use $L$ independent attention mechanisms, or “heads” compute output features. Then, we aggregate these output feature representations:\n",
        "\n",
        "$$\n",
        "\\boldsymbol{z}'_i = \\sigma\\left[\n",
        "\\sum_{l=1}^{L}\\sum_{v_j\\in{N}(v_i)\\cup\\{v_i\\}}\n",
        "\\alpha_{ij}^{(l)} \n",
        "\\boldsymbol{\\Theta}^{(l)}\\boldsymbol{z}_j\\right].\\tag{13}\n",
        "$$"
      ],
      "id": "organic-antique"
    },
    {
      "cell_type": "markdown",
      "source": [
        "## Activation functions\n",
        "Activation functions are non-linear functions that are used in neural networks so that the neural network can approximate different functions.\n",
        "\n",
        "Here are some examples of popular activation functions:\n",
        "  \n",
        "  1. $$ \\text{tanh}(x) = \\frac{e^x - e^{-x}}{e^x + e^{-x}}, \\tag{14}  $$ \n",
        "  <div>\n",
        "<img src=\"https://machinelearningmastery.com/wp-content/uploads/2020/12/Plot-of-Inputs-vs-Outputs-for-the-Tanh-Activation-Function..png\" width=\"400\"/>\n",
        "</div> \n",
        "\n",
        "  2. $$ \\text{sigmoid}(x) = \\frac{e^x }{e^x + 1} , \\tag{15} $$ \n",
        "  <div>\n",
        "<img src=\"https://machinelearningmastery.com/wp-content/uploads/2020/12/Plot-of-Inputs-vs-Outputs-for-the-Sigmoid-Activation-Function..png\" width=\"400\"/>\n",
        "</div> \n",
        "\n",
        "  3. $$ \\text{ReLU}(x) = \\text{max}(x,0), \\tag{16}  $$ \n",
        "  <div>\n",
        "<img src=\"https://machinelearningmastery.com/wp-content/uploads/2020/12/Plot-of-Inputs-vs-Outputs-for-the-ReLU-Activation-Function..png\" width=\"400\"/>\n",
        "</div> "
      ],
      "metadata": {
        "id": "I3lIVwQB-hTs"
      },
      "id": "I3lIVwQB-hTs"
    },
    {
      "cell_type": "markdown",
      "source": [
        "## Dropout\n",
        "\n",
        "The Dropout layer randomly sets input units to $0$ with a frequency of **rate** at each step during training time, which helps prevent overfitting. Inputs not set to $0$ are scaled up by $1/(1 - \\textbf{rate})$ such that the sum over all inputs is unchanged."
      ],
      "metadata": {
        "id": "ovpVxTAk3GRe"
      },
      "id": "ovpVxTAk3GRe"
    },
    {
      "cell_type": "markdown",
      "source": [
        "## Loss functions\n",
        "\n",
        "A loss function is an error function that can be used to estimate the loss of the model so that the weights can be updated to reduce the loss on the next evaluation.\n",
        "\n",
        "1. Regression loss functions.\n",
        "\n",
        "    $$y^{\\text{real}}, y^{\\text{pred}} \\in \\mathcal{R}$$\n",
        "  \n",
        "    a) Mean Squared Error\n",
        "    \n",
        "      \\begin{equation} \n",
        "      \\text{MSE}(y^{\\text{real}}, y^{\\text{pred}}) = \\frac{1}{N_b}\\sum_{j = 1}^{N_b} (y^{\\text{real}}_j - y^{\\text{pred}}_j)^2 , \\tag{17} \n",
        "      \\end{equation}\n",
        "\n",
        "    b) Mean Absolute Error\n",
        "\n",
        "      \\begin{equation} \n",
        "      \\text{MAE}(y^{\\text{real}}, y^{\\text{pred}}) = \\frac{1}{N_b}\\sum_{j = 1}^{N_b} \\| y^{\\text{real}}_j - y^{\\text{pred}}_j \\| , \\tag{18} \n",
        "      \\end{equation}\n",
        "\n",
        "2. Binary classification loss functions.\n",
        "    \\begin{equation}\n",
        "    y^{\\text{real}} \\in \\{ 0, 1 \\}, y^{\\text{pred}} \\in [0,1]\n",
        "    \\end{equation}\n",
        "  \n",
        "    a) Cross entropy\n",
        "    \n",
        "      \\begin{equation} \n",
        "      \\text{Cross entropy}(y^{\\text{real}}, y^{\\text{pred}}) = - \\frac{1}{N_b}\\sum_{j = 1}^{N_b} (y^{\\text{real}}_j \\log(y^{\\text{pred}}_j)  + (1 - y^{\\text{real}}_j) \\log(1-y^{\\text{pred}}_j)), \\tag{19} \n",
        "      \\end{equation}\n",
        "\n",
        "    b) Hinge\n",
        "\n",
        "      \\begin{equation} \n",
        "      \\text{Hinge}(y^{\\text{real}}, y^{\\text{pred}}) = \\frac{1}{N_b}\\sum_{j = 1}^{N_b} \\max(0, 1 -  t^{\\text{real}}_j*  t^{\\text{pred}}_j) , \\tag{20} \n",
        "      \\end{equation}\n",
        "      where \\begin{equation} t^{\\text{...}}_j = (2(y^{\\text{...}}_j-\\frac{1}{2}) )\\end{equation}\n",
        "\n",
        "    c) Squared hinge\n",
        "\n",
        "      \\begin{equation} \n",
        "      \\text{Sq_hinge}(y^{\\text{real}}, y^{\\text{pred}}) = \\frac{1}{N_b} \\sum_{j = 1}^{N_b} \\max(0, 1 - t^{\\text{real}}_j*  t^{\\text{pred}}_j)^2 , \\tag{21} \n",
        "      \\end{equation}\n",
        "      where \\begin{equation} t^{\\text{...}}_j = (2(y^{\\text{...}}_j-\\frac{1}{2}) )\\end{equation}"
      ],
      "metadata": {
        "id": "uX_EBubdBFaU"
      },
      "id": "uX_EBubdBFaU"
    },
    {
      "cell_type": "markdown",
      "metadata": {
        "id": "equivalent-pickup"
      },
      "source": [
        "# Graph classification: PROTEINS dataset"
      ],
      "id": "equivalent-pickup"
    },
    {
      "cell_type": "markdown",
      "metadata": {
        "id": "violent-architecture"
      },
      "source": [
        "PROTEINS is a dataset of proteins that are classified as enzymes or non-enzymes. Nodes represent the amino acids and two nodes are connected by an edge if they are less than 6Å apart.\n",
        "\n",
        "This dataset can be obtained from PyTorch Geometric: https://pytorch-geometric.readthedocs.io/en/latest/modules/datasets.html"
      ],
      "id": "violent-architecture"
    },
    {
      "cell_type": "code",
      "metadata": {
        "id": "considerable-chester"
      },
      "source": [
        "from torch_geometric.datasets import TUDataset\n",
        "\n",
        "import matplotlib.pyplot as plt\n",
        "import networkx as nx\n",
        "import numpy as np\n",
        "\n",
        "from torch_geometric.utils import to_networkx"
      ],
      "id": "considerable-chester",
      "execution_count": 192,
      "outputs": []
    },
    {
      "cell_type": "code",
      "metadata": {
        "id": "electric-metropolitan"
      },
      "source": [
        "dataset = TUDataset(root='data/PROTEINS', name='PROTEINS').shuffle()"
      ],
      "id": "electric-metropolitan",
      "execution_count": 193,
      "outputs": []
    },
    {
      "cell_type": "code",
      "metadata": {
        "id": "opposite-scenario",
        "outputId": "fbab460e-feec-4792-c930-b3d6d23a6d09",
        "colab": {
          "base_uri": "https://localhost:8080/"
        }
      },
      "source": [
        "print(f'Number of graphs: {len(dataset)}')\n",
        "print(f'Number of classes: {dataset.num_classes}')\n",
        "print(f'Number of node features: {dataset.num_features}')"
      ],
      "id": "opposite-scenario",
      "execution_count": 194,
      "outputs": [
        {
          "output_type": "stream",
          "name": "stdout",
          "text": [
            "Number of graphs: 1113\n",
            "Number of classes: 2\n",
            "Number of node features: 3\n"
          ]
        }
      ]
    },
    {
      "cell_type": "markdown",
      "metadata": {
        "id": "JMR45P2cpIZY"
      },
      "source": [
        "Let's vizualise several graphs using NetworkX:"
      ],
      "id": "JMR45P2cpIZY"
    },
    {
      "cell_type": "code",
      "metadata": {
        "id": "personal-image"
      },
      "source": [
        "\n",
        "\n",
        "COLORS = [\n",
        "    '#C3EFFC',\n",
        "    '#FCC4C3',\n",
        "    '#FCF9C3',\n",
        "    '#E1FCC3',\n",
        "    '#C1EFBF',\n",
        "    '#BFC9EF',\n",
        "    '#CCBFEF',\n",
        "    '#EBBFEF',\n",
        "    '#CCB4C4',\n",
        "    '#EEEEEE',\n",
        "]\n",
        "\n",
        "def draw_colored_graph(nx_graph, colors, labels, ax=None):\n",
        "    if ax is None:\n",
        "        plt.figure(figsize=(20, 12))\n",
        "    nx.draw(\n",
        "        nx_graph, \n",
        "        node_color=colors,  \n",
        "        font_size=10, \n",
        "        width=0.2, \n",
        "        with_labels=True,\n",
        "        labels=labels,\n",
        "        ax=ax\n",
        "    )"
      ],
      "id": "personal-image",
      "execution_count": 195,
      "outputs": []
    },
    {
      "cell_type": "code",
      "metadata": {
        "id": "blocked-lying",
        "outputId": "a0994f7c-5df1-45f9-e0d0-8d88607a00ec",
        "colab": {
          "base_uri": "https://localhost:8080/",
          "height": 207
        }
      },
      "source": [
        "n_examples = 5\n",
        "\n",
        "fix, ax = plt.subplots(nrows=1, ncols=n_examples, figsize=(5*n_examples, 5))\n",
        "\n",
        "for i, rand_ix in enumerate(np.random.choice(dataset.indices(), 5)):\n",
        "    curr_ax = ax[i]\n",
        "    curr_ax.set_title(f'Graph with id={rand_ix}')\n",
        "    \n",
        "    pg_graph = dataset[rand_ix]\n",
        "    nx_graph = to_networkx(pg_graph, to_undirected=True)\n",
        "    colors = [COLORS[np.argmax(features)] for features in pg_graph.x]\n",
        "    \n",
        "    draw_colored_graph(nx_graph, colors, labels={}, ax=curr_ax)"
      ],
      "id": "blocked-lying",
      "execution_count": 196,
      "outputs": [
        {
          "output_type": "display_data",
          "data": {
            "text/plain": [
              "<Figure size 1800x360 with 5 Axes>"
            ],
            "image/png": "[encoded data removed]"
          },
          "metadata": {}
        }
      ]
    },
    {
      "cell_type": "markdown",
      "metadata": {
        "id": "norman-mortality"
      },
      "source": [
        "## 1. Graph classification with GCN"
      ],
      "id": "norman-mortality"
    },
    {
      "cell_type": "markdown",
      "metadata": {
        "id": "unlikely-breathing"
      },
      "source": [
        "At first, let's create data loaders for training, validation and testing. For that, we will use [PyG DataLoader](https://pytorch-geometric.readthedocs.io/en/latest/modules/loader.html#torch_geometric.loader) that combines input graphs into batches. One batch is represented as a single graph with multiple disconnected components."
      ],
      "id": "unlikely-breathing"
    },
    {
      "cell_type": "code",
      "metadata": {
        "id": "excess-television"
      },
      "source": [
        "from torch_geometric.loader import DataLoader\n",
        "\n",
        "batch_size = 4\n",
        "loader = DataLoader(dataset, batch_size=batch_size)"
      ],
      "id": "excess-television",
      "execution_count": 197,
      "outputs": []
    },
    {
      "cell_type": "code",
      "metadata": {
        "id": "inside-productivity",
        "outputId": "25456c6e-8f3b-4832-92b8-e0ff0c44ed60",
        "colab": {
          "base_uri": "https://localhost:8080/",
          "height": 553
        }
      },
      "source": [
        "# Let's pick the first batch and visualize it.\n",
        "# We will see that it is a simple graph with multiple disconnected components.\n",
        "# Each component corresponds to a graph in the initial dataset.\n",
        "# Here for illustration we label and color nodes according to these components\n",
        "\n",
        "batch = loader.__iter__().next()\n",
        "nx_graph = to_networkx(batch, to_undirected=True)\n",
        "\n",
        "# mask = np.concatenate([\n",
        "#     np.ones(batch.ptr[i+1] - batch.ptr[i], dtype=int) * i\n",
        "#     for i in range(batch_size) \n",
        "# ])\n",
        "mask = batch.batch.tolist()\n",
        "colors = [COLORS[graph_idx] for graph_idx in mask]\n",
        "labels = dict(zip(range(len(mask)), mask))\n",
        "\n",
        "\n",
        "draw_colored_graph(nx_graph, colors=colors, labels=labels)"
      ],
      "id": "inside-productivity",
      "execution_count": 198,
      "outputs": [
        {
          "output_type": "display_data",
          "data": {
            "text/plain": [
              "<Figure size 1440x864 with 1 Axes>"
            ],
            "image/png": "[encoded data removed]"
          },
          "metadata": {}
        }
      ]
    },
    {
      "cell_type": "code",
      "metadata": {
        "id": "surgical-chosen"
      },
      "source": [
        "batch_size = 32\n",
        "data_size = len(dataset)\n",
        "\n",
        "all_indices_shuffled = np.arange(data_size)\n",
        "np.random.shuffle(all_indices_shuffled)\n",
        "\n",
        "\n",
        "train_loader = DataLoader(dataset[all_indices_shuffled[:int(data_size * 0.8)]], batch_size=batch_size)\n",
        "val_loader = DataLoader(dataset[all_indices_shuffled[int(data_size * 0.8):int(data_size * 0.9)]], batch_size=batch_size)\n",
        "test_loader = DataLoader(dataset[all_indices_shuffled[int(data_size * 0.9):]], batch_size=batch_size)"
      ],
      "id": "surgical-chosen",
      "execution_count": 199,
      "outputs": []
    },
    {
      "cell_type": "markdown",
      "source": [
        "Since two classes are distributed not evenly in the dataset, a network always predicting the largest class can achive an accuracy $>0.5$. We consider the proportion of the largest class as the bottom accuracy that **should** be overperformed by the predictor."
      ],
      "metadata": {
        "id": "JImHWOWUq9-U"
      },
      "id": "JImHWOWUq9-U"
    },
    {
      "cell_type": "code",
      "source": [
        "def calculate_default_accuracy(loader):\n",
        "    output = np.zeros(0,)\n",
        "    for batch in loader:\n",
        "        output = np.append(output,batch.y)\n",
        "    return np.maximum(np.mean(output), 1 - np.mean(output))"
      ],
      "metadata": {
        "id": "qCkJIxbdLoho"
      },
      "id": "qCkJIxbdLoho",
      "execution_count": 200,
      "outputs": []
    },
    {
      "cell_type": "code",
      "source": [
        "train_default_accuracy = calculate_default_accuracy(train_loader)\n",
        "val_default_accuracy = calculate_default_accuracy(val_loader)\n",
        "test_default_accuracy = calculate_default_accuracy(test_loader)\n",
        "print('Training set default accyracy: {:.4f}'.format(train_default_accuracy))\n",
        "print('Validation set default accyracy: {:.4f}'.format(val_default_accuracy))\n",
        "print('Test set default accyracy: {:.4f}'.format(test_default_accuracy))"
      ],
      "metadata": {
        "id": "TnIc1nYBMEBh",
        "outputId": "d15b6610-3f0f-4ba9-b077-a0ec0148118f",
        "colab": {
          "base_uri": "https://localhost:8080/"
        }
      },
      "id": "TnIc1nYBMEBh",
      "execution_count": 201,
      "outputs": [
        {
          "output_type": "stream",
          "name": "stdout",
          "text": [
            "Training set default accyracy: 0.5933\n",
            "Validation set default accyracy: 0.6216\n",
            "Test set default accyracy: 0.5893\n"
          ]
        }
      ]
    },
    {
      "cell_type": "code",
      "source": [
        "epochs = 50 "
      ],
      "metadata": {
        "id": "IrtiutUZngOg"
      },
      "id": "IrtiutUZngOg",
      "execution_count": 202,
      "outputs": []
    },
    {
      "cell_type": "markdown",
      "metadata": {
        "id": "taken-sleep"
      },
      "source": [
        "### Task 1.1 – Implement GCN Layer"
      ],
      "id": "taken-sleep"
    },
    {
      "cell_type": "markdown",
      "metadata": {
        "id": "plastic-donor"
      },
      "source": [
        "Pytorch Geometric provides the [Message Passing interface](https://pytorch-geometric.readthedocs.io/en/latest/notes/create_gnn.html) that contains three main functions:\n",
        "* `message()`, which defines how the message $\\color{green}{\\boldsymbol{m}_{ij}^{k}}$ is built,\n",
        "* `aggregate()`, which defines how the messages are aggregated into $\\color{red}{\\boldsymbol{h}_{i}^{k}},$ \n",
        "* `propagate()`, which calls the `message()`, `aggregate()` functions.  \n",
        "\n",
        "We will implement GCN layer according to the formula (4) on top this interface."
      ],
      "id": "plastic-donor"
    },
    {
      "cell_type": "code",
      "metadata": {
        "id": "catholic-evening"
      },
      "source": [
        "import torch\n",
        "import torch.nn as nn\n",
        "\n",
        "from torch_geometric.nn import MessagePassing\n",
        "from torch_geometric.utils import add_self_loops, degree"
      ],
      "id": "catholic-evening",
      "execution_count": 203,
      "outputs": []
    },
    {
      "cell_type": "markdown",
      "source": [
        "  A. Initialize a linear layer **nn.Linear** with arguments *in_features* and *out_features*. Passing through this layer corresponds to multiplication with a learnable matrix $\\mathbf{\\Theta}$ in formula (4)\n",
        "  \n",
        "  B. Apply the linear layer that you created in the *forward* function to  the node feature tensor \n",
        "\n",
        "  C. Create normalizing multipliers  **norm** using\n",
        "    \n",
        "  - function **degree** from torch_geometric.utils \n",
        "  - function **torch.sqrt** \n",
        "  \n",
        "  \n",
        "  D. Apply the *activation* function **self.activation** to the result of *self.propagate*"
      ],
      "metadata": {
        "id": "coJVFPqP9SiQ"
      },
      "id": "coJVFPqP9SiQ"
    },
    {
      "cell_type": "code",
      "metadata": {
        "id": "constitutional-subsection"
      },
      "source": [
        "class GCN(MessagePassing):\n",
        "    def __init__(self, in_channels, out_channels, activation=nn.functional.relu):\n",
        "        super(GCN, self).__init__(aggr='add')\n",
        "        self.activation = activation \n",
        "        # Task 1.1.A\n",
        "        # YOUR CODE HERE\n",
        "        self.lin = nn.Linear(in_channels, out_channels)\n",
        "\n",
        "    def forward(self, x, edge_index):\n",
        "        # x has shape [N, in_channels]\n",
        "        # edge_index has shape [2, E]\n",
        "\n",
        "        # Add self-loops to the adjacency matrix.\n",
        "        edge_index, _ = add_self_loops(edge_index, num_nodes=x.size(0))\n",
        "\n",
        "        # Linearly transform node feature matrix.\n",
        "        # Task 1.1.B\n",
        "        # YOUR CODE HERE:\n",
        "        x = self.lin(x)\n",
        "\n",
        "        # Compute normalization.\n",
        "        # Task 1.1.C\n",
        "        # YOUR CODE HERE (~5 lines):\n",
        "\n",
        "        source_idx = edge_index[0] \n",
        "        dest_idx = edge_index[1]\n",
        "\n",
        "        source_degree = degree(source_idx)[source_idx]\n",
        "        dest_degree = degree(dest_idx)[dest_idx]\n",
        "\n",
        "        norm = 1/torch.sqrt(source_degree*dest_degree)\n",
        "        \n",
        "        # Start propagating messages.\n",
        "        propagation  = self.propagate(edge_index, x=x, norm=norm)\n",
        "        # Task 1.1.D\n",
        "        # YOUR CODE HERE:\n",
        "        output = self.activation(propagation)\n",
        "        return output\n",
        "\n",
        "    def message(self, x_j, norm):\n",
        "        # x_j has shape [E, out_channels]\n",
        "        # norm has shape [E, 1]\n",
        "\n",
        "        # Normalize node features. This will make the highly connected modes more important if left oyut\n",
        "        return norm.view(-1, 1) * x_j"
      ],
      "id": "constitutional-subsection",
      "execution_count": 204,
      "outputs": []
    },
    {
      "cell_type": "code",
      "metadata": {
        "id": "regulated-leader",
        "outputId": "661e2f61-640a-489e-dd92-6311aa74cbfc",
        "colab": {
          "base_uri": "https://localhost:8080/"
        }
      },
      "source": [
        "# Check:\n",
        "out_channels = 10\n",
        "gcn_layer = GCN(in_channels=dataset.num_node_features, out_channels=out_channels)\n",
        "\n",
        "rand_idx = np.random.randint(0, len(dataset))\n",
        "graph = dataset[rand_idx]\n",
        "output = gcn_layer(graph.x, graph.edge_index)\n",
        "\n",
        "if output.shape == torch.Size([graph.num_nodes, out_channels]): \n",
        "    print('Good job!')\n",
        "else:\n",
        "    print('Error: layer should output a 2-dimensional tensor of shape (N, out_channels)')"
      ],
      "id": "regulated-leader",
      "execution_count": 205,
      "outputs": [
        {
          "output_type": "stream",
          "name": "stdout",
          "text": [
            "Good job!\n"
          ]
        }
      ]
    },
    {
      "cell_type": "markdown",
      "metadata": {
        "id": "straight-phrase"
      },
      "source": [
        "### Task 1.2 – Implement GNN with GCN"
      ],
      "id": "straight-phrase"
    },
    {
      "cell_type": "markdown",
      "source": [
        "  A.  Set correct values for the **input_dim_layer** and **output_dim_layer** parameters\n",
        "  \n",
        "  B. Create a sequence of layers after message-passsing layers. Use the following functions:\n",
        "  * **nn.Linear(in_dim, out_dim)**\n",
        "  * **nn.Dropout(dropout)**\n",
        "  * **nn.ReLU()**\n",
        "\n",
        "  \n",
        "  C. Apply **self.convs** in *forward*\n",
        "\n",
        "  D. Apply a graph aggregation function. Choose from the functions:\n",
        "\n",
        "  * **pyg_nn.global_add_pool**\n",
        "  * **pyg_nn.global_mean_pool**\n",
        "  * **pyg_nn.global_max_pool**\n",
        "\n",
        "  They all have two arguments: node features tensor *x* and batch size *batch*\n",
        "\n",
        "\n",
        "  E. Apply post-message-passing transformations *self.post_mp* "
      ],
      "metadata": {
        "id": "a6aQMWjvJbjF"
      },
      "id": "a6aQMWjvJbjF"
    },
    {
      "cell_type": "code",
      "metadata": {
        "id": "certain-convergence"
      },
      "source": [
        "import torch\n",
        "import torch.nn as nn\n",
        "import torch.nn.functional as F\n",
        "\n",
        "import torch_geometric.nn as pyg_nn\n",
        "\n",
        "\n",
        "class GCN_GNN(torch.nn.Module):\n",
        "    def __init__(self, input_dim, hidden_dim, output_dim, dropout=0.0):\n",
        "        super(GCN_GNN, self).__init__()\n",
        "        \n",
        "        self.dropout = dropout\n",
        "\n",
        "        mp_layers = []\n",
        "        mp_layers.append((GCN(input_dim, hidden_dim), 'x, edge_index -> x'))\n",
        "        for i in range(3):\n",
        "            # Task 1.2.A\n",
        "            # YOUR CODE HERE:\n",
        "            input_dim_layer = hidden_dim\n",
        "            output_dim_layer = hidden_dim\n",
        "            mp_layers.append((GCN(input_dim_layer, output_dim_layer), 'x, edge_index -> x'))\n",
        "\n",
        "        \n",
        "        self.convs = pyg_nn.Sequential('x, edge_index', mp_layers)\n",
        "\n",
        "        # Task 1.2.B\n",
        "        # YOUR CODE HERE:\n",
        "        post_mp_layers = [\n",
        "              nn.Linear(hidden_dim, hidden_dim),\n",
        "              nn.ReLU(),\n",
        "              nn.Dropout(dropout),\n",
        "              nn.Linear(hidden_dim, output_dim),\n",
        "              nn.Sigmoid()\n",
        "        ]\n",
        "        self.post_mp = nn.Sequential(*post_mp_layers)\n",
        "\n",
        "    def forward(self, data):\n",
        "        x, edge_index, batch = data.x, data.edge_index, data.batch\n",
        "        \n",
        "        # Task 1.2.C\n",
        "        # YOUR CODE HERE:\n",
        "        x = self.convs(x, edge_index)\n",
        "        \n",
        "        # Task 1.2.D\n",
        "        # YOUR CODE HERE:\n",
        "        x = pyg_nn.global_add_pool(x, batch)\n",
        "        \n",
        "        # Task 1.2.E\n",
        "        # YOUR CODE HERE:\n",
        "        x = self.post_mp(x)\n",
        "\n",
        "        return x"
      ],
      "id": "certain-convergence",
      "execution_count": 206,
      "outputs": []
    },
    {
      "cell_type": "code",
      "metadata": {
        "id": "dirty-invasion",
        "outputId": "c08c48fa-ef8d-4266-928b-f34f4d7e144f",
        "colab": {
          "base_uri": "https://localhost:8080/"
        }
      },
      "source": [
        "# Check:\n",
        "hidden_dim = 10\n",
        "gnn = GCN_GNN(\n",
        "    input_dim=dataset.num_node_features, \n",
        "    hidden_dim=hidden_dim, \n",
        "    output_dim=1, \n",
        ")\n",
        "\n",
        "batch = loader.__iter__().next()\n",
        "output = gnn(batch)\n",
        "\n",
        "if output.shape == torch.Size([loader.batch_size, 1]): \n",
        "    print('Good job!')\n",
        "else:\n",
        "    print('Error: GNN should output a 2-dimensional tensor of shape (batch_size, num_classes)')"
      ],
      "id": "dirty-invasion",
      "execution_count": 207,
      "outputs": [
        {
          "output_type": "stream",
          "name": "stdout",
          "text": [
            "Good job!\n"
          ]
        }
      ]
    },
    {
      "cell_type": "markdown",
      "metadata": {
        "id": "persistent-implement"
      },
      "source": [
        "### Task 1.3 – Train GNN with GCN to predict classes of protein graphs"
      ],
      "id": "persistent-implement"
    },
    {
      "cell_type": "markdown",
      "source": [
        "  A. Apply **model** to *batch* from *train_loader* and get predictions\n",
        "\n",
        "  B. Extract labels from *batch*\n",
        "\n",
        "  C. Apply the loss function\n",
        "\n",
        "  D. Apply **model** to *batch* from *val_loader* and round the result to get predicted labels\n",
        "\n",
        "  E. Get true label of *batch* from *val_loader*\n",
        "\n",
        "  F. If the accuracy is better at this epoch, update *best_accuracy* and copy the current model to *best_model* using copy.deepcopy\n",
        "  \n",
        "  G. Create a GCN-GNN"
      ],
      "metadata": {
        "id": "gybMwfc9RQki"
      },
      "id": "gybMwfc9RQki"
    },
    {
      "cell_type": "code",
      "metadata": {
        "id": "knowing-count"
      },
      "source": [
        "from tqdm import tqdm\n",
        "import copy\n",
        "\n",
        "def cross_entropy_loss(x, labels):\n",
        "    return F.binary_cross_entropy(x, labels)\n",
        "\n",
        "\n",
        "def train(model, optimizer, train_loader, val_loader, epochs, loss_function = cross_entropy_loss):\n",
        "    train_loss = []\n",
        "    val_accuracy = []\n",
        "    best_accuracy = 0.0\n",
        "    for epoch in tqdm(range(epochs)):\n",
        "        batch_train_loss = []\n",
        "        batch_val_accuracy = []\n",
        "\n",
        "        model.train()\n",
        "        for batch in train_loader:\n",
        "            # Task 1.3.A\n",
        "            # YOUR CODE HERE:\n",
        "            logits = model(batch)\n",
        "            \n",
        "            # Task 1.3.B\n",
        "            # YOUR CODE HERE:\n",
        "            labels = batch.y\n",
        "            labels = labels.view(-1,1).float()\n",
        "\n",
        "            # Task 1.3.C\n",
        "            # YOUR CODE HERE:\n",
        "            loss = loss_function(logits, labels)\n",
        "            \n",
        "            loss.backward()\n",
        "            optimizer.step()\n",
        "            optimizer.zero_grad()\n",
        "\n",
        "            batch_train_loss.append(float(loss.data.numpy()))\n",
        "\n",
        "        train_loss.append(np.mean(batch_train_loss))\n",
        "\n",
        "        model.eval()\n",
        "        for batch in val_loader:\n",
        "            # Task 1.3.D\n",
        "            # YOUR CODE HERE:\n",
        "            pred = torch.round(model(batch))\n",
        "\n",
        "            # Task 1.3.E\n",
        "            # YOUR CODE HERE:\n",
        "            labels = batch.y\n",
        "            labels = labels.view(-1,1).float()\n",
        "            \n",
        "            batch_val_accuracy.append(np.mean((labels == pred).numpy()))\n",
        "\n",
        "        val_accuracy.append(np.mean(batch_val_accuracy))\n",
        "        # Task 1.3.F\n",
        "        # YOUR CODE HERE:\n",
        "        if val_accuracy[-1] > best_accuracy:\n",
        "          print(\"I'm changing the model\")\n",
        "          best_accuracy = val_accuracy[-1]\n",
        "          best_model = copy.deepcopy(model)\n",
        "        \n",
        "    return best_model, train_loss, val_accuracy\n",
        "\n",
        "\n",
        "def plot_progress(train_loss, val_accuracy):\n",
        "    fig, (train_ax, val_ax) = plt.subplots(nrows=1, ncols=2, figsize=(15, 5))\n",
        "\n",
        "    train_ax.plot(train_loss)\n",
        "    train_ax.set_title('Train loss')\n",
        "    train_ax.set_xlabel('Epoch')\n",
        "\n",
        "    val_ax.plot(val_accuracy)\n",
        "    val_ax.plot(val_default_accuracy*np.ones_like(val_accuracy), c='r', label = 'default_accuracy')\n",
        "    val_ax.set_title('Val accuracy')\n",
        "    val_ax.set_xlabel('Epoch')\n",
        "    \n",
        "    plt.legend()\n",
        "    plt.show()\n",
        "    \n",
        "    \n",
        "def evaluate(model, loader):\n",
        "    model.eval()\n",
        "\n",
        "    predictions = np.array([])\n",
        "    labels = np.array([])\n",
        "\n",
        "    for batch in loader:\n",
        "\n",
        "        # Repeat what you have completed in 1.3.D\n",
        "        # YOUR CODE HERE:\n",
        "        pred = torch.round(model(batch))\n",
        "\n",
        "        # Repeat what you have completed in 1.3.E\n",
        "        # YOUR CODE HERE:\n",
        "        true = batch.y\n",
        "        true = true.view(-1,1).float()\n",
        "\n",
        "        predictions = np.append(predictions, pred.detach())\n",
        "        labels = np.append(labels, true)\n",
        "\n",
        "    return np.mean(predictions == labels)"
      ],
      "id": "knowing-count",
      "execution_count": 211,
      "outputs": []
    },
    {
      "cell_type": "code",
      "metadata": {
        "id": "distinct-photographer"
      },
      "source": [
        "import torch.optim as optim\n",
        "\n",
        "# Task 1.3.G\n",
        "# YOUR CODE HERE:\n",
        "hidden_dim = 10\n",
        "model = GCN_GNN(\n",
        "    input_dim=dataset.num_node_features, \n",
        "    hidden_dim=hidden_dim, \n",
        "    output_dim=1)\n",
        "\n",
        "optimizer = optim.Adam(model.parameters(), lr=.001)\n",
        "epochs = 50"
      ],
      "id": "distinct-photographer",
      "execution_count": 212,
      "outputs": []
    },
    {
      "cell_type": "markdown",
      "metadata": {
        "id": "interpreted-holmes"
      },
      "source": [
        "Training:"
      ],
      "id": "interpreted-holmes"
    },
    {
      "cell_type": "code",
      "metadata": {
        "id": "square-customs",
        "outputId": "467322dc-27b0-4700-aa16-f7ea38ba193d",
        "colab": {
          "base_uri": "https://localhost:8080/",
          "height": 475
        }
      },
      "source": [
        "model, train_loss, val_accuracy = train(model, optimizer, train_loader, val_loader, epochs)\n",
        "plot_progress(train_loss, val_accuracy)"
      ],
      "id": "square-customs",
      "execution_count": 213,
      "outputs": [
        {
          "output_type": "stream",
          "name": "stderr",
          "text": [
            "  2%|▏         | 1/50 [00:00<00:18,  2.59it/s]"
          ]
        },
        {
          "output_type": "stream",
          "name": "stdout",
          "text": [
            "I'm changing the model\n"
          ]
        },
        {
          "output_type": "stream",
          "name": "stderr",
          "text": [
            " 26%|██▌       | 13/50 [00:04<00:12,  2.86it/s]"
          ]
        },
        {
          "output_type": "stream",
          "name": "stdout",
          "text": [
            "I'm changing the model\n"
          ]
        },
        {
          "output_type": "stream",
          "name": "stderr",
          "text": [
            " 30%|███       | 15/50 [00:05<00:12,  2.77it/s]"
          ]
        },
        {
          "output_type": "stream",
          "name": "stdout",
          "text": [
            "I'm changing the model\n"
          ]
        },
        {
          "output_type": "stream",
          "name": "stderr",
          "text": [
            "\r 32%|███▏      | 16/50 [00:05<00:14,  2.39it/s]"
          ]
        },
        {
          "output_type": "stream",
          "name": "stdout",
          "text": [
            "I'm changing the model\n"
          ]
        },
        {
          "output_type": "stream",
          "name": "stderr",
          "text": [
            " 38%|███▊      | 19/50 [00:07<00:11,  2.60it/s]"
          ]
        },
        {
          "output_type": "stream",
          "name": "stdout",
          "text": [
            "I'm changing the model\n"
          ]
        },
        {
          "output_type": "stream",
          "name": "stderr",
          "text": [
            " 44%|████▍     | 22/50 [00:08<00:09,  2.81it/s]"
          ]
        },
        {
          "output_type": "stream",
          "name": "stdout",
          "text": [
            "I'm changing the model\n"
          ]
        },
        {
          "output_type": "stream",
          "name": "stderr",
          "text": [
            "100%|██████████| 50/50 [00:17<00:00,  2.78it/s]\n"
          ]
        },
        {
          "output_type": "display_data",
          "data": {
            "text/plain": [
              "<Figure size 1080x360 with 2 Axes>"
            ],
            "image/png": "[encoded data removed]"
          },
          "metadata": {
            "needs_background": "light"
          }
        }
      ]
    },
    {
      "cell_type": "markdown",
      "metadata": {
        "id": "color-nickname"
      },
      "source": [
        "Evaluation:"
      ],
      "id": "color-nickname"
    },
    {
      "cell_type": "code",
      "metadata": {
        "id": "dress-mayor"
      },
      "source": [
        "accuracy = evaluate(model, test_loader)\n",
        "print('Accuracy:', accuracy)\n",
        "if accuracy >= test_default_accuracy:\n",
        "    print('Good job!')\n",
        "else:\n",
        "    print('Try better!')\n",
        "baseline_accuracy = accuracy"
      ],
      "id": "dress-mayor",
      "execution_count": null,
      "outputs": []
    },
    {
      "cell_type": "markdown",
      "source": [
        "### Task 1.4 – Train Graph Convolutional Network with modifications: different kernels, activations, loss functions and compare results  "
      ],
      "metadata": {
        "id": "_X-ojhiOnSQk"
      },
      "id": "_X-ojhiOnSQk"
    },
    {
      "cell_type": "markdown",
      "source": [
        "  A. Initialize two instances **nn.Linear** for modifications according to formulas (6) and (7)\n",
        "  \n",
        "  B. Apply the instances you created to node features tensor **x** \n",
        "\n",
        "  C. Create normalizing multiplier for the normalization described in formula (8)\n",
        "\n",
        "  D. Write to the  variable **norm** a unit tensor of size (1,1) using this function **torch.ones** in case we don't use normalization\n",
        "\n",
        "  E. Complete the ouput of the GCN layer for modifications of the kernel\n",
        "\n",
        "  F. Create a sequence of layers after message-passsing layers\n",
        "\n",
        "  G. Select a graph pooling\n",
        "\n",
        "  H. Suggest sets of hyperparameters for which we will train networks and choose the best one. During this process, we should find the best hyperparameters"
      ],
      "metadata": {
        "id": "9yNtB6o8Xxye"
      },
      "id": "9yNtB6o8Xxye"
    },
    {
      "cell_type": "code",
      "source": [
        "class GCN(MessagePassing):\n",
        "    def __init__( \n",
        "                  self, \n",
        "                  in_channels, \n",
        "                  out_channels, \n",
        "                  mode = 'basic', \n",
        "                  activation = nn.functional.relu, \n",
        "                  normalization_type = '1'):\n",
        "        super(GCN, self).__init__(aggr='add')\n",
        "        self.mode = mode\n",
        "        self.activation = activation \n",
        "        self.normalization_type = normalization_type\n",
        "        assert self.mode in ['basic', 'modification1', 'modification2'], \"Wrong mode\"\n",
        "        assert self.normalization_type in ['None', '1', '2'], 'Wrong normalization type'\n",
        "\n",
        "        \n",
        "        if self.mode == 'basic':\n",
        "          self.lin = nn.Linear(in_features=in_channels, out_features=out_channels) \n",
        "        elif self.mode in ['modification1', 'modification2']:\n",
        "          # Task 1.4.A\n",
        "          # YOUR CODE HERE\n",
        "          self.lin1 = ...\n",
        "          self.lin2 = ... \n",
        "\n",
        "    def forward(self, x, edge_index):\n",
        "        if self.mode == 'basic':\n",
        "            edge_index, _ = add_self_loops(edge_index, num_nodes=x.size(0))\n",
        "\n",
        "            x = self.lin(x)\n",
        "        elif self.mode in ['modification1', 'modification2']:\n",
        "            # Task 1.4.B\n",
        "            # YOUR CODE HERE\n",
        "            x1 = ...\n",
        "            x2 = ...\n",
        "\n",
        "        source_idx = edge_index[0, :] # shape [E, out_dim]\n",
        "        dest_idx = edge_index[1, :] # shape [E, out_dim]\n",
        "        if self.normalization_type == '1':\n",
        "            norm = 1 / torch.sqrt(\n",
        "                degree(source_idx)[source_idx] * degree(source_idx)[dest_idx]\n",
        "            ) # shape [E, out_dim]\n",
        "        elif self.normalization_type == '2':\n",
        "            # Task 1.4.C\n",
        "            # YOUR CODE HERE\n",
        "            norm = ...\n",
        "        \n",
        "        elif self.normalization_type == 'None':\n",
        "            # Task 1.4.D\n",
        "            # YOUR CODE HERE\n",
        "            norm = ...\n",
        "        \n",
        "\n",
        "        if self.mode == 'basic':\n",
        "            propagation = self.propagate(edge_index, x=x, norm=norm)\n",
        "            output = self.activation(propagation) \n",
        "        elif self.mode == 'modification1':\n",
        "            # Task 1.4.E\n",
        "            # YOUR CODE HERE\n",
        "            propagation = ...\n",
        "            output = ...\n",
        "        elif self.mode == 'modification2':\n",
        "            # Task 1.4.E\n",
        "            # YOUR CODE HERE\n",
        "            propagation = ...\n",
        "            output = ...\n",
        "        return output\n",
        "\n",
        "    def message(self, x_j, norm):\n",
        "        return norm.view(-1, 1) * x_j"
      ],
      "metadata": {
        "id": "RV2QiOGjoE03"
      },
      "id": "RV2QiOGjoE03",
      "execution_count": 172,
      "outputs": []
    },
    {
      "cell_type": "code",
      "source": [
        "class GCN_GNN(torch.nn.Module):\n",
        "    def __init__(self, input_dim, hidden_dim, output_dim, dropout=0.0, activation = nn.functional.relu, mode = 'basic', normalization_type = '1', num_layers = 3):\n",
        "        super(GCN_GNN, self).__init__()\n",
        "        \n",
        "        self.dropout = dropout\n",
        "        assert num_layers >=1, 'Wrong number of layers'\n",
        "        layers = []\n",
        "        layers.append(\n",
        "            (GCN(input_dim, hidden_dim, mode = mode, activation = activation, normalization_type = normalization_type), 'x, edge_index -> x')\n",
        "        )\n",
        "        for i_l in range(num_layers - 1):\n",
        "            layers.append(\n",
        "                (GCN(hidden_dim, hidden_dim, mode = mode, activation = activation, normalization_type = normalization_type), 'x, edge_index -> x')\n",
        "            )\n",
        "        self.convs = pyg_nn.Sequential('x, edge_index', layers)\n",
        "\n",
        "        # Task 1.4.F\n",
        "        # YOUR CODE HERE\n",
        "        post_mp_layers = [\n",
        "                          ...\n",
        "        ]\n",
        "        self.post_mp = nn.Sequential(*post_mp_layers)\n",
        "\n",
        "    def forward(self, data):\n",
        "        x, edge_index, batch = data.x, data.edge_index, data.batch\n",
        "        \n",
        "        x = self.convs(x, edge_index) # shape [N, hidden_dim]\n",
        "        # Task 1.4.G\n",
        "        # YOUR CODE HERE\n",
        "        x = ... # shape [B, hidden_dim], B is batch size\n",
        "        \n",
        "        x = self.post_mp(x) # shape [B, out_dim]\n",
        "\n",
        "        return x"
      ],
      "metadata": {
        "id": "7KiUCzPJqH1q"
      },
      "id": "7KiUCzPJqH1q",
      "execution_count": 173,
      "outputs": []
    },
    {
      "cell_type": "code",
      "source": [
        "from tabulate import tabulate"
      ],
      "metadata": {
        "id": "ipVVj5bU7K8C"
      },
      "id": "ipVVj5bU7K8C",
      "execution_count": null,
      "outputs": []
    },
    {
      "cell_type": "code",
      "source": [
        "def sigmoid(x):\n",
        "    return 2*torch.sigmoid(x) - 1\n",
        "\n",
        "\n",
        "activation_functions_dict = {\n",
        "    'tanh': torch.tanh,\n",
        "    'sigmoid': sigmoid,\n",
        "    'relu': F.relu\n",
        "}\n",
        "def cross_entropy_loss(x, labels):\n",
        "    return F.binary_cross_entropy(x, labels)\n",
        "\n",
        "def hinge_loss(x, labels):\n",
        "    return torch.mean(torch.maximum(torch.zeros_like(labels), 1 - (2*(x - 1/2))*(2*(labels - 1/2))))\n",
        "def squared_hinge_loss(x, labels):\n",
        "    return torch.mean(torch.maximum(torch.zeros_like(labels), 1 - (2*(x - 1/2))*(2*(labels - 1/2)))**2)\n",
        "\n",
        "loss_functions_dict = {\n",
        "    'cross_entropy': cross_entropy_loss,\n",
        "    'hinge': hinge_loss,\n",
        "    'squared_hinge': squared_hinge_loss\n",
        "}\n",
        "# Task 1.4.H\n",
        "# YOUR CODE HERE\n",
        "# [num_layers, convolution_type, normalization_type, dropout, activation_function, loss_function]\n",
        "hyperparameters_sets = [\n",
        "                        [4, ..., ..., 0.0, 'tanh', ...],\n",
        "                        [4, 'basic', '1', ..., ..., 'cross_entropy'],\n",
        "]\n",
        "\n",
        "\n"
      ],
      "metadata": {
        "id": "dgHWz3s829S4"
      },
      "id": "dgHWz3s829S4",
      "execution_count": null,
      "outputs": []
    },
    {
      "cell_type": "code",
      "source": [
        "table = [['# model', 'Number of layers', 'Convolution type', 'Normalization type', 'Dropout', 'Activation function', 'Loss function', 'Test set accuracy']]\n",
        "table.append(['0/ Baseline', 3, 'basic', '1', 0.0, 'relu', 'cross_entropy', baseline_accuracy])\n",
        "best_model = model \n",
        "best_accuracy = baseline_accuracy\n",
        "for i_hs, hyperparameters_set in enumerate(hyperparameters_sets):\n",
        "    num_layers, convolution_type, normalization_type, dropout, activation_function_name, loss_function_name = hyperparameters_set\n",
        "    model = GCN_GNN(\n",
        "                input_dim=dataset.num_node_features,\n",
        "                hidden_dim=16,\n",
        "                output_dim=1,\n",
        "                dropout=dropout,\n",
        "                mode = convolution_type,\n",
        "                normalization_type = normalization_type,\n",
        "                activation = activation_functions_dict[activation_function_name],\n",
        "                num_layers = num_layers\n",
        "            )\n",
        "    optimizer = optim.Adam(model.parameters(), lr=.001)\n",
        "    model, train_loss, val_accuracy = train(model, optimizer, train_loader, val_loader, epochs, loss_function = loss_functions_dict[loss_function_name])\n",
        "    plot_progress(train_loss, val_accuracy)\n",
        "    accuracy = evaluate(model, test_loader)\n",
        "    print('Test set accuracy: {:.5f}'.format(accuracy))\n",
        "    if accuracy > best_accuracy:\n",
        "        best_accuracy = accuracy\n",
        "        best_model = copy.deepcopy(model)\n",
        "    table.append([str(i_hs+1)] + hyperparameters_set + [accuracy])\n",
        "\n",
        "\n"
      ],
      "metadata": {
        "id": "suIUDlGC79gq"
      },
      "id": "suIUDlGC79gq",
      "execution_count": null,
      "outputs": []
    },
    {
      "cell_type": "code",
      "source": [
        "print(tabulate(table, headers='firstrow', tablefmt='fancy_grid'))"
      ],
      "metadata": {
        "id": "IPvzavE-JH-r"
      },
      "id": "IPvzavE-JH-r",
      "execution_count": null,
      "outputs": []
    },
    {
      "cell_type": "code",
      "source": [
        "print('Accuracy on the test set of the best model:', best_accuracy)\n",
        "if best_accuracy > baseline_accuracy:\n",
        "    print('Good job!')\n",
        "else:\n",
        "    print('Try better!')\n",
        "best_gcn_accuracy = best_accuracy"
      ],
      "metadata": {
        "id": "E1i2rbyhKtjQ"
      },
      "id": "E1i2rbyhKtjQ",
      "execution_count": null,
      "outputs": []
    },
    {
      "cell_type": "markdown",
      "source": [
        "## 2. Graph Isomorphic Network\n"
      ],
      "metadata": {
        "id": "WmhVMds07kHm"
      },
      "id": "WmhVMds07kHm"
    },
    {
      "cell_type": "markdown",
      "source": [
        "### Task 2.1 Implement GIN Layer\n",
        "\n"
      ],
      "metadata": {
        "id": "MXllZ7mH76zG"
      },
      "id": "MXllZ7mH76zG"
    },
    {
      "cell_type": "markdown",
      "source": [
        "A.  Set correct values for the **layer_in_features** and **layer_out_features** parameters\n",
        "\n",
        "B. Implement passing through mlp. Don't forget to activate output of each layer\n",
        "\n",
        "C. Implement *forward* function "
      ],
      "metadata": {
        "id": "Doxos4_1hABt"
      },
      "id": "Doxos4_1hABt"
    },
    {
      "cell_type": "code",
      "source": [
        "from torch.autograd import Variable\n",
        "\n",
        "dtype = torch.FloatTensor\n",
        "\n",
        "class GIN(MessagePassing):\n",
        "    def __init__(self, in_channels, out_channels, activation=nn.functional.relu, mlp_num_layers = 3, mlp_hidden_channels = 10, aggr = 'sum'):\n",
        "        super(GIN, self).__init__(aggr=aggr)\n",
        "        self.activation = activation \n",
        "        self.mlp_num_layers = mlp_num_layers\n",
        "        self.mlp_layers = []\n",
        "        for i_l in range(mlp_num_layers):\n",
        "            # Task 2.1.A\n",
        "            # YOUR CODE HERE\n",
        "            layer_in_features = ...\n",
        "          \n",
        "            if i_l == mlp_num_layers -1:\n",
        "                layer_out_features = out_channels\n",
        "            else:\n",
        "                layer_out_features = mlp_hidden_channels\n",
        "\n",
        "            self.mlp_layers.append(nn.Linear(in_features=layer_in_features, out_features=layer_out_features))\n",
        "        self.eps = nn.Parameter(torch.Tensor(1,))\n",
        "        # Initialization of epsilon\n",
        "        nn.init.trunc_normal_(self.eps)\n",
        "\n",
        "    def mlp(self, x):\n",
        "        # Task 2.1.B\n",
        "        # YOUR CODE HERE\n",
        "        for mlp_layer in self.mlp_layers:\n",
        "            ...\n",
        "        return x\n",
        "\n",
        "\n",
        "    def forward(self, x, edge_index):\n",
        "        # Task 2.1.C\n",
        "        # YOUR CODE HERE\n",
        "        propagation = ...\n",
        "        output = ...\n",
        "        \n",
        "        return output\n",
        "\n",
        "    def message(self, x_j, norm):\n",
        "        \n",
        "        return x_j"
      ],
      "metadata": {
        "id": "hzqhxELb87pN"
      },
      "id": "hzqhxELb87pN",
      "execution_count": null,
      "outputs": []
    },
    {
      "cell_type": "code",
      "source": [
        "# Check:\n",
        "out_channels = 10\n",
        "gcn_layer = GIN(in_channels=dataset.num_node_features, out_channels=out_channels)\n",
        "\n",
        "rand_idx = np.random.randint(0, len(dataset))\n",
        "graph = dataset[rand_idx]\n",
        "output = gcn_layer(graph.x, graph.edge_index)\n",
        "\n",
        "if output.shape == torch.Size([graph.num_nodes, out_channels]): \n",
        "    print('Good job!')\n",
        "else:\n",
        "    print('Error: layer should output a 2-dimensional tensor of shape (N, out_channels)')"
      ],
      "metadata": {
        "id": "ibe422apDIQX"
      },
      "id": "ibe422apDIQX",
      "execution_count": null,
      "outputs": []
    },
    {
      "cell_type": "markdown",
      "source": [
        "### Task 2.2 – Implement GNN with GIN\n"
      ],
      "metadata": {
        "id": "OFFo6LiMCuxK"
      },
      "id": "OFFo6LiMCuxK"
    },
    {
      "cell_type": "markdown",
      "source": [
        "A. Create a sequence of layers after message-passsing layers\n",
        "\n",
        "B. Select a graph pooling"
      ],
      "metadata": {
        "id": "LnL9fg7ljDSE"
      },
      "id": "LnL9fg7ljDSE"
    },
    {
      "cell_type": "code",
      "source": [
        "class GIN_GNN(torch.nn.Module):\n",
        "    def __init__(self, input_dim, hidden_dim, output_dim, dropout=0.0, aggr = 'sum', mlp_num_layers = 2, mlp_hidden_channels = None, num_layers = 3, activation = nn.functional.relu):\n",
        "        super(GIN_GNN, self).__init__()\n",
        "        \n",
        "        self.dropout = dropout\n",
        "        self.activation = activation\n",
        "        if mlp_hidden_channels is None:\n",
        "            self.mlp_hidden_channels = hidden_dim\n",
        "        else:\n",
        "            self.mlp_hidden_channels = mlp_hidden_channels\n",
        "\n",
        "        self.layers = []\n",
        "        for i_l in range(num_layers):\n",
        "            if i_l == 0:\n",
        "                input_dim_layer = input_dim\n",
        "            else:\n",
        "                input_dim_layer = hidden_dim\n",
        "            self.layers.append(\n",
        "                                  (GIN(input_dim_layer, hidden_dim, mlp_hidden_channels = self.mlp_hidden_channels, mlp_num_layers = mlp_num_layers, aggr = aggr, activation = self.activation), 'x, edge_index -> x')\n",
        "                              )\n",
        "        self.convs = pyg_nn.Sequential('x, edge_index', self.layers)\n",
        "\n",
        "        # Task 2.2.A \n",
        "        # YOUR CODE HERE:\n",
        "        post_mp_layers = [\n",
        "                          ...\n",
        "        ]\n",
        "        self.post_mp = nn.Sequential(*post_mp_layers)\n",
        "\n",
        "    def forward(self, data):\n",
        "        x, edge_index, batch = data.x, data.edge_index, data.batch\n",
        "        \n",
        "        x = self.convs(x, edge_index) # shape [N, hidden_dim]\n",
        "        \n",
        "        # Task 2.2.B\n",
        "        # YOUR CODE HERE:\n",
        "        x = ... # shape [B, hidden_dim], B is batch size\n",
        "        \n",
        "        x = self.post_mp(x) # shape [B, out_dim]\n",
        "\n",
        "        return x"
      ],
      "metadata": {
        "id": "2WGNTwFWDL5H"
      },
      "id": "2WGNTwFWDL5H",
      "execution_count": null,
      "outputs": []
    },
    {
      "cell_type": "code",
      "source": [
        "hidden_dim = 10\n",
        "gnn = GIN_GNN(\n",
        "    input_dim=dataset.num_node_features, \n",
        "    hidden_dim=hidden_dim, \n",
        "    output_dim=dataset.num_classes, \n",
        ")\n",
        "\n",
        "batch = loader.__iter__().next()\n",
        "output = gnn(batch)\n",
        "\n",
        "if output.shape == torch.Size([loader.batch_size, dataset.num_classes]): \n",
        "    print('Good job!')\n",
        "else:\n",
        "    print('Error: GNN should output a 2-dimensional tensor of shape (batch_size, num_classes)')"
      ],
      "metadata": {
        "id": "NposcuSRFSEX"
      },
      "id": "NposcuSRFSEX",
      "execution_count": null,
      "outputs": []
    },
    {
      "cell_type": "markdown",
      "source": [
        "### Task 2.3 – Train GNN with GCN to predict classes of protein graphs"
      ],
      "metadata": {
        "id": "WB6AOFWRFfnj"
      },
      "id": "WB6AOFWRFfnj"
    },
    {
      "cell_type": "markdown",
      "source": [
        "A. Create a GIN-GNN"
      ],
      "metadata": {
        "id": "QKT6oVBqj4hQ"
      },
      "id": "QKT6oVBqj4hQ"
    },
    {
      "cell_type": "code",
      "source": [
        "# Task 2.3.A\n",
        "# YOUR CODE HERE:\n",
        "model = GIN_GNN(\n",
        "    ...\n",
        ")\n",
        "optimizer = optim.Adam(model.parameters(), lr=.001)"
      ],
      "metadata": {
        "id": "CbH2e6LHFo9b"
      },
      "id": "CbH2e6LHFo9b",
      "execution_count": null,
      "outputs": []
    },
    {
      "cell_type": "markdown",
      "source": [
        "Train:"
      ],
      "metadata": {
        "id": "YS0MWvfzGIzD"
      },
      "id": "YS0MWvfzGIzD"
    },
    {
      "cell_type": "code",
      "source": [
        "model, train_loss, val_accuracy = train(model, optimizer, train_loader, val_loader, epochs)\n",
        "plot_progress(train_loss, val_accuracy)"
      ],
      "metadata": {
        "id": "UttCk_v8GDJ3"
      },
      "id": "UttCk_v8GDJ3",
      "execution_count": null,
      "outputs": []
    },
    {
      "cell_type": "markdown",
      "source": [
        "Evaluation:"
      ],
      "metadata": {
        "id": "txbN4Vk3GQEP"
      },
      "id": "txbN4Vk3GQEP"
    },
    {
      "cell_type": "code",
      "source": [
        "accuracy = evaluate(model, test_loader)\n",
        "\n",
        "print('Accuracy:', accuracy)\n",
        "if accuracy >= test_default_accuracy:\n",
        "    print('Good job!')\n",
        "else:\n",
        "    print('Try better!')\n",
        "baseline_accuracy = accuracy"
      ],
      "metadata": {
        "id": "90yBgG4lGRyZ"
      },
      "id": "90yBgG4lGRyZ",
      "execution_count": null,
      "outputs": []
    },
    {
      "cell_type": "markdown",
      "source": [
        "### Task 2.4 - Select hyperparameters of GIN-GNN"
      ],
      "metadata": {
        "id": "SHN7ufHsGqMW"
      },
      "id": "SHN7ufHsGqMW"
    },
    {
      "cell_type": "markdown",
      "source": [
        "A. Suggest sets of hyperparameters "
      ],
      "metadata": {
        "id": "gLXpsAtekk1T"
      },
      "id": "gLXpsAtekk1T"
    },
    {
      "cell_type": "code",
      "source": [
        "activation_functions_dict = {\n",
        "    'tanh': torch.tanh,\n",
        "    'sigmoid': sigmoid,\n",
        "    'relu': F.relu\n",
        "}\n",
        "\n",
        "loss_functions_dict = {\n",
        "    'cross_entropy': cross_entropy_loss,\n",
        "    'hinge': hinge_loss,\n",
        "    'squared_hinge': squared_hinge_loss\n",
        "}\n",
        "# Task 2.4.A\n",
        "# YOUR CODE HERE:\n",
        "# [num_layers, mlp_num_layers, aggr, dropout, activation_function, loss_function]\n",
        "hyperparameters_sets = [\n",
        "                        [..., 2, ..., 0.0, ..., 'cross_entropy'],\n",
        "                        [2, ..., 'max', ..., 'relu', ...],\n",
        "]"
      ],
      "metadata": {
        "id": "Wm0LK0lrGzVY"
      },
      "id": "Wm0LK0lrGzVY",
      "execution_count": null,
      "outputs": []
    },
    {
      "cell_type": "code",
      "source": [
        "table = [['# model', 'Number of layers', 'Number of layers in the MLP', 'Aggregation type', 'Dropout', 'Activation function', 'Loss function', 'Test set accuracy']]\n",
        "table.append(['0/ Baseline', 3, 2, 'sum', 0.0, 'relu', 'cross_entropy', baseline_accuracy])\n",
        "best_model = model \n",
        "best_accuracy = baseline_accuracy\n",
        "for i_hs, hyperparameters_set in enumerate(hyperparameters_sets):\n",
        "    num_layers, mlp_num_layers, aggr, dropout, activation_function_name, loss_function_name = hyperparameters_set\n",
        "    model = GIN_GNN(\n",
        "                input_dim=dataset.num_node_features,\n",
        "                hidden_dim=16,\n",
        "                output_dim=1,\n",
        "                dropout=dropout,\n",
        "                mlp_num_layers = mlp_num_layers,\n",
        "                aggr = aggr,\n",
        "                activation = activation_functions_dict[activation_function_name],\n",
        "                num_layers = num_layers\n",
        "            )\n",
        "    optimizer = optim.Adam(model.parameters(), lr=.001)\n",
        "    model, train_loss, val_accuracy = train(model, optimizer, train_loader, val_loader, epochs, loss_function = loss_functions_dict[loss_function_name])\n",
        "    plot_progress(train_loss, val_accuracy)\n",
        "    accuracy = evaluate(model, test_loader)\n",
        "    print('Test set accuracy: {:.5f}'.format(accuracy))\n",
        "    if accuracy > best_accuracy:\n",
        "        best_accuracy = accuracy\n",
        "        best_model = copy.deepcopy(model)\n",
        "    table.append([str(i_hs+1)] + hyperparameters_set + [accuracy])"
      ],
      "metadata": {
        "id": "aQRrWMhtHfWX"
      },
      "id": "aQRrWMhtHfWX",
      "execution_count": null,
      "outputs": []
    },
    {
      "cell_type": "code",
      "source": [
        "print(tabulate(table, headers='firstrow', tablefmt='fancy_grid'))"
      ],
      "metadata": {
        "id": "UPNO1g6zIEr1"
      },
      "id": "UPNO1g6zIEr1",
      "execution_count": null,
      "outputs": []
    },
    {
      "cell_type": "code",
      "source": [
        "print('Accuracy on the test set of the best model:', best_accuracy)\n",
        "if best_accuracy > baseline_accuracy:\n",
        "    print('Good job!')\n",
        "else:\n",
        "    print('Try better!')\n",
        "best_gin_accuracy = best_accuracy"
      ],
      "metadata": {
        "id": "AbmyP3E5II2B"
      },
      "id": "AbmyP3E5II2B",
      "execution_count": null,
      "outputs": []
    },
    {
      "cell_type": "markdown",
      "metadata": {
        "id": "aware-louisiana"
      },
      "source": [
        "## 3. Graph classification with GAT"
      ],
      "id": "aware-louisiana"
    },
    {
      "cell_type": "markdown",
      "metadata": {
        "id": "imperial-realtor"
      },
      "source": [
        "Let's now implement Graph Attention Layer and perform the same graph classification procedure on PROTEINS dataset with a new GNN that contains GAT layers."
      ],
      "id": "imperial-realtor"
    },
    {
      "cell_type": "markdown",
      "metadata": {
        "id": "applicable-priest"
      },
      "source": [
        "### Task 3.1 – Implement GAT Layer"
      ],
      "id": "applicable-priest"
    },
    {
      "cell_type": "markdown",
      "metadata": {
        "id": "heated-oriental"
      },
      "source": [
        "We will implement multi-head GAT layer according to the formula (11) on top PyG Message-Passing interface."
      ],
      "id": "heated-oriental"
    },
    {
      "cell_type": "markdown",
      "source": [
        "  A. Initialize a linear layer **nn.Linear** with arguments *in_features* and *out_features*. Passing through this layer corresponds to multiplication with a learnable matrix $\\mathbf{\\Theta}$ in formula (11)\n",
        "  \n",
        "  B. Create a learnable attention tensor of shape $\\left(\\textbf{ 1, num\\_heads,2*out\\_channels  }\\right)$ that is used in formula (12). Have a look at *self.eps* initialization in section 2.1. Use **nn.init.xavier_uniform_** for initialization\n",
        "\n",
        "  C. Implement *message* function for *GAT-layer* using the following functions:\n",
        "  \n",
        "  * **.view** to reshape a tensor\n",
        "  * **torch.cat([tensor1, tensor2, ...], dim = ...)**  to concatenate tensors\n",
        "  * **.sum(axis)** for summing a tensor along some axis\n",
        "  * **.unsqueeze(axis)** to add an axis to shape of a tensor\n",
        "  * **F.leaky_relu()** as activation\n",
        "  * **pyg_utils.softmax(input, index)**\n"
      ],
      "metadata": {
        "id": "r-7u3APhngga"
      },
      "id": "r-7u3APhngga"
    },
    {
      "cell_type": "code",
      "metadata": {
        "id": "iraqi-duplicate"
      },
      "source": [
        "import torch_geometric.utils as pyg_utils\n",
        "\n",
        "class GAT(MessagePassing):\n",
        "    def __init__(self, in_channels, out_channels, num_heads, activation = F.relu):\n",
        "        super(GAT, self).__init__(aggr='add')\n",
        "        self.in_channels = in_channels\n",
        "        self.out_channels = out_channels\n",
        "        self.num_heads = num_heads\n",
        "        self.activation = activation\n",
        "        \n",
        "        # Task 3.1.A\n",
        "        # YOUR CODE HERE:\n",
        "        self.lin = ...\n",
        "        \n",
        "        # Task 3.1.B\n",
        "        # YOUR CODE HERE:\n",
        "        self.att = ...\n",
        "\n",
        "    def forward(self, x, edge_index):\n",
        "        # x has shape [N, in_channels]\n",
        "        # edge_index has shape [2, E]\n",
        "        \n",
        "        # Add self-loops to the adjacency matrix.\n",
        "        edge_index, _ = add_self_loops(edge_index, num_nodes=x.size(0))\n",
        "        \n",
        "        # Apply linear transformation to the node feature matrix.\n",
        "        x = self.lin(x)\n",
        "\n",
        "        # Start propagating messages.\n",
        "        return self.activation(self.propagate(edge_index=edge_index, x=x))\n",
        "\n",
        "    def message(self, x_i, x_j, index):\n",
        "        # Constructs messages to node i for each edge (j, i).\n",
        "        # x_i – feature vectors of target nodes corresponding to i-th index, i.e. x[edge_index[1]]\n",
        "        # x_j – feature vectors of source nodes corresponding to j-th index, i.e. x[edge_index[0]]\n",
        "        # index – target (i-th) nodes indices, i.e. edge_index[1]\n",
        "\n",
        "        # Task 3.1.C\n",
        "        # YOUR CODE HERE (~6 lines):\n",
        "        ...\n",
        "        \n",
        "        return (alpha * x_j).mean(dim=1)"
      ],
      "id": "iraqi-duplicate",
      "execution_count": null,
      "outputs": []
    },
    {
      "cell_type": "code",
      "metadata": {
        "id": "bottom-survey"
      },
      "source": [
        "# Check:\n",
        "out_channels = 10\n",
        "num_heads = 3\n",
        "gat_layer = GAT(in_channels=dataset.num_node_features, out_channels=out_channels, num_heads=num_heads)\n",
        "\n",
        "rand_idx = np.random.randint(0, len(dataset))\n",
        "graph = dataset[rand_idx]\n",
        "output = gat_layer(graph.x, graph.edge_index)\n",
        "\n",
        "if output.shape == torch.Size([graph.num_nodes, out_channels]): \n",
        "    print('Good job!')\n",
        "else:\n",
        "    print('Error: layer should output a 2-dimensional tensor of shape (N, out_channels)')"
      ],
      "id": "bottom-survey",
      "execution_count": null,
      "outputs": []
    },
    {
      "cell_type": "markdown",
      "metadata": {
        "id": "precious-surgeon"
      },
      "source": [
        "### Task 3.2 – Implement GNN with GAT"
      ],
      "id": "precious-surgeon"
    },
    {
      "cell_type": "markdown",
      "source": [
        "A. Create a sequence of layers after message-passsing layers\n",
        "\n",
        "B. Select a graph pooling"
      ],
      "metadata": {
        "id": "55a9NkRAsT7v"
      },
      "id": "55a9NkRAsT7v"
    },
    {
      "cell_type": "code",
      "metadata": {
        "id": "polished-clearing"
      },
      "source": [
        "import torch\n",
        "import torch.nn as nn\n",
        "import torch.nn.functional as F\n",
        "\n",
        "import torch_geometric.nn as pyg_nn\n",
        "\n",
        "\n",
        "class GAT_GNN(torch.nn.Module):\n",
        "    def __init__(self, input_dim, hidden_dim, output_dim, num_heads, dropout=0.0, activation = F.relu, num_layers = 3):\n",
        "        super(GAT_GNN, self).__init__()\n",
        "        \n",
        "        self.dropout = dropout\n",
        "        layers = []\n",
        "        layers.append(\n",
        "            (GAT(input_dim, hidden_dim, num_heads, activation = activation), 'x, edge_index -> x')\n",
        "        )\n",
        "        for i_l in range(num_layers - 1):\n",
        "            layers.append(\n",
        "                (GAT(hidden_dim, hidden_dim, num_heads, activation = activation), 'x, edge_index -> x')\n",
        "            )\n",
        "        self.convs = pyg_nn.Sequential('x, edge_index', layers)\n",
        "\n",
        "        # Task 3.2.A\n",
        "        # YOUR CODE HERE:\n",
        "        post_mp_layers = [\n",
        "                          ...\n",
        "        ]\n",
        "        self.post_mp = nn.Sequential(*post_mp_layers)\n",
        "\n",
        "    def forward(self, data):\n",
        "        x, edge_index, batch = data.x, data.edge_index, data.batch\n",
        "        \n",
        "        x = self.convs(x, edge_index)\n",
        "        \n",
        "        # Task 3.2.B\n",
        "        # YOUR CODE HERE:\n",
        "        x = ...\n",
        "        \n",
        "        x = self.post_mp(x)\n",
        "\n",
        "        return x"
      ],
      "id": "polished-clearing",
      "execution_count": null,
      "outputs": []
    },
    {
      "cell_type": "code",
      "metadata": {
        "id": "editorial-excitement"
      },
      "source": [
        "# Check:\n",
        "hidden_dim = 10\n",
        "num_layers = 3\n",
        "num_heads = 8\n",
        "dropout = 0.0\n",
        "\n",
        "gnn = GAT_GNN(\n",
        "    input_dim=dataset.num_node_features, \n",
        "    hidden_dim=hidden_dim, \n",
        "    output_dim=1, \n",
        "    num_heads=num_heads,\n",
        "    num_layers = num_layers,\n",
        "    dropout = dropout\n",
        ")\n",
        "\n",
        "batch = loader.__iter__().next()\n",
        "output = gnn(batch)\n",
        "\n",
        "if output.shape == torch.Size([loader.batch_size, 1]): \n",
        "    print('Good job!')\n",
        "else:\n",
        "    print('Error: GNN should output a 2-dimensional tensor of shape (batch_size, num_classes)')"
      ],
      "id": "editorial-excitement",
      "execution_count": null,
      "outputs": []
    },
    {
      "cell_type": "markdown",
      "metadata": {
        "id": "personalized-chess"
      },
      "source": [
        "### Task 3.3 – Train GNN with GAT to predict classes of protein graphs"
      ],
      "id": "personalized-chess"
    },
    {
      "cell_type": "markdown",
      "source": [
        "A. Create a GIN-GNN"
      ],
      "metadata": {
        "id": "ni9aeGcUsgYR"
      },
      "id": "ni9aeGcUsgYR"
    },
    {
      "cell_type": "code",
      "metadata": {
        "id": "affected-norfolk"
      },
      "source": [
        "# Task 3.3.A\n",
        "# YOUR CODE HERE:\n",
        "model = GAT_GNN(\n",
        "    ...\n",
        ")\n",
        "optimizer = optim.Adam(model.parameters(), lr=.001)"
      ],
      "id": "affected-norfolk",
      "execution_count": null,
      "outputs": []
    },
    {
      "cell_type": "markdown",
      "metadata": {
        "id": "incorrect-ottawa"
      },
      "source": [
        "Training:"
      ],
      "id": "incorrect-ottawa"
    },
    {
      "cell_type": "code",
      "metadata": {
        "id": "continent-groove"
      },
      "source": [
        "model, train_loss, val_accuracy = train(model, optimizer, train_loader, val_loader, epochs)\n",
        "plot_progress(train_loss, val_accuracy)"
      ],
      "id": "continent-groove",
      "execution_count": null,
      "outputs": []
    },
    {
      "cell_type": "markdown",
      "metadata": {
        "id": "comfortable-benchmark"
      },
      "source": [
        "Evaluation:"
      ],
      "id": "comfortable-benchmark"
    },
    {
      "cell_type": "code",
      "metadata": {
        "id": "greenhouse-dictionary"
      },
      "source": [
        "accuracy = evaluate(model, test_loader)\n",
        "\n",
        "print('Accuracy:', accuracy)\n",
        "if accuracy >= test_default_accuracy:\n",
        "    print('Good job!')\n",
        "else:\n",
        "    print('Try better!')\n",
        "baseline_accuracy = accuracy"
      ],
      "id": "greenhouse-dictionary",
      "execution_count": null,
      "outputs": []
    },
    {
      "cell_type": "markdown",
      "source": [
        "### Task 3.4 - Select hyperparameters of GAT-GNN"
      ],
      "metadata": {
        "id": "K3hcmzNjiXb-"
      },
      "id": "K3hcmzNjiXb-"
    },
    {
      "cell_type": "markdown",
      "source": [
        "A. Suggest sets of hyperparameters "
      ],
      "metadata": {
        "id": "lweO9EmEspuz"
      },
      "id": "lweO9EmEspuz"
    },
    {
      "cell_type": "code",
      "source": [
        "activation_functions_dict = {\n",
        "    'tanh': torch.tanh,\n",
        "    'sigmoid': sigmoid,\n",
        "    'relu': F.relu\n",
        "}\n",
        "\n",
        "loss_functions_dict = {\n",
        "    'cross_entropy': cross_entropy_loss,\n",
        "    'hinge': hinge_loss,\n",
        "    'squared_hinge': squared_hinge_loss\n",
        "}\n",
        "# Task 3.4.A\n",
        "# YOUR CODE HERE:\n",
        "# [num_layers, num_heads, dropout, activation_function, loss_function]\n",
        "hyperparameters_sets = [\n",
        "                        [..., 8, ..., 'tanh', ...],\n",
        "                        [2, ..., 0.4, ..., 'cross_entropy'],\n",
        "]\n",
        "\n"
      ],
      "metadata": {
        "id": "gOgSDwzUiWX9"
      },
      "id": "gOgSDwzUiWX9",
      "execution_count": null,
      "outputs": []
    },
    {
      "cell_type": "code",
      "source": [
        "table = [['# model', 'Number of layers', 'Number of heads' 'Dropout', 'Activation function', 'Loss function', 'Test set accuracy']]\n",
        "table.append(['0/ Baseline', num_layers, num_heads, dropout, 'relu', 'cross_entropy', baseline_accuracy])\n",
        "best_model = model \n",
        "best_accuracy = baseline_accuracy\n",
        "for i_hs, hyperparameters_set in enumerate(hyperparameters_sets):\n",
        "    num_layers, num_heads, dropout, activation_function_name, loss_function_name = hyperparameters_set\n",
        "    model = GAT_GNN(\n",
        "        input_dim=dataset.num_node_features, \n",
        "        hidden_dim=16, \n",
        "        output_dim=1, \n",
        "        num_heads=num_heads,\n",
        "        num_layers = num_layers \n",
        "    )\n",
        "    optimizer = optim.Adam(model.parameters(), lr=.001)\n",
        "    model, train_loss, val_accuracy = train(model, optimizer, train_loader, val_loader, epochs, loss_function = loss_functions_dict[loss_function_name])\n",
        "    plot_progress(train_loss, val_accuracy)\n",
        "    accuracy = evaluate(model, test_loader)\n",
        "    print('Test set accuracy: {:.5f}'.format(accuracy))\n",
        "    if accuracy > best_accuracy:\n",
        "        best_accuracy = accuracy\n",
        "        best_model = copy.deepcopy(model)\n",
        "    table.append([str(i_hs+1)] + hyperparameters_set + [accuracy])"
      ],
      "metadata": {
        "id": "-LqCDE7IjbSF"
      },
      "id": "-LqCDE7IjbSF",
      "execution_count": null,
      "outputs": []
    },
    {
      "cell_type": "code",
      "source": [
        "print(tabulate(table, headers='firstrow', tablefmt='fancy_grid'))"
      ],
      "metadata": {
        "id": "yP6D91l6klit"
      },
      "id": "yP6D91l6klit",
      "execution_count": null,
      "outputs": []
    },
    {
      "cell_type": "code",
      "source": [
        "print('Accuracy on the test set of the best model:', best_accuracy)\n",
        "if best_accuracy > baseline_accuracy:\n",
        "    print('Good job!')\n",
        "else:\n",
        "    print('Try better!')\n",
        "best_gat_accuracy = best_accuracy"
      ],
      "metadata": {
        "id": "E-hJQVEPkpx3"
      },
      "id": "E-hJQVEPkpx3",
      "execution_count": null,
      "outputs": []
    },
    {
      "cell_type": "code",
      "source": [
        "table = [['GNN type', 'Best model accuracy'], ['GCN', '{:.5f}'.format(best_gcn_accuracy)], ['GIN', '{:.5f}'.format(best_gin_accuracy)], ['GAT', '{:.5f}'.format(best_gat_accuracy)]]\n",
        "print(tabulate(table, headers='firstrow', tablefmt='fancy_grid'))"
      ],
      "metadata": {
        "id": "cSO4iTdjpahG"
      },
      "id": "cSO4iTdjpahG",
      "execution_count": null,
      "outputs": []
    },
    {
      "cell_type": "markdown",
      "metadata": {
        "id": "graduate-snake"
      },
      "source": [
        "# Graph regression: QM9 dataset"
      ],
      "id": "graduate-snake"
    },
    {
      "cell_type": "markdown",
      "metadata": {
        "id": "gVAY39SUsssW"
      },
      "source": [
        "QM9 is a [molecular dataset](https://www.nature.com/articles/sdata201422) standardized in machine learning as a chemical property prediction benchmark. It consists of small molecules (up to 29 atoms per molecule). Atoms contain positional coordinates embedded in a 3D space, a one-hot encoding vector that defines the type of molecule (H, C, N, O, F) and an integer value with the atom charge. For each molecule, authors of the dataset provide computed geometries minimal in energy, corresponding harmonic frequencies, dipole moments, polarizabilities, along with energies, enthalpies, and free energies of atomization. Any of these values can be considered as targets in the graph regression problem. In this seminar, we will predict one of them, the energy of the highest occupied molecular orbital $\\epsilon_{\\text{HOMO}}$.\n",
        "\n",
        "There are examples of some molecules from QM9 constructed using [PyMOL](https://pymol.org/2/):"
      ],
      "id": "gVAY39SUsssW"
    },
    {
      "cell_type": "markdown",
      "metadata": {
        "id": "A5W7VXeDp3As"
      },
      "source": [
        "<img src=\"https://i.ibb.co/qDv7Xy0/qm9-examples-v2.jpg\" alt=\"qm9-examples-v2\" border=\"0\">"
      ],
      "id": "A5W7VXeDp3As"
    },
    {
      "cell_type": "code",
      "metadata": {
        "id": "brief-nelson"
      },
      "source": [
        "from torch_geometric.datasets import QM9"
      ],
      "id": "brief-nelson",
      "execution_count": null,
      "outputs": []
    },
    {
      "cell_type": "code",
      "metadata": {
        "id": "genetic-wealth"
      },
      "source": [
        "# In this seminar we will consider only a small part of this dataset\n",
        "# (in total it contains ~134k molecules)\n",
        "N = 10000\n",
        "dataset = QM9(root='data/QM9')[:N]"
      ],
      "id": "genetic-wealth",
      "execution_count": null,
      "outputs": []
    },
    {
      "cell_type": "code",
      "metadata": {
        "id": "medieval-hopkins"
      },
      "source": [
        "print(f'Number of graphs: {len(dataset)}')\n",
        "print(f'Number of classes: {dataset.num_classes}')\n",
        "print(f'Number of node features: {dataset.num_features}')"
      ],
      "id": "medieval-hopkins",
      "execution_count": null,
      "outputs": []
    },
    {
      "cell_type": "code",
      "metadata": {
        "id": "respective-broad"
      },
      "source": [
        "n_examples = 5\n",
        "atom_types = ['H', 'C', 'N', 'O', 'F']\n",
        "\n",
        "fix, ax = plt.subplots(nrows=1, ncols=n_examples, figsize=(5*n_examples, 5))\n",
        "\n",
        "for i, rand_ix in enumerate(np.random.choice(dataset.indices(), 5)):\n",
        "    curr_ax = ax[i]\n",
        "    curr_ax.set_title(f'Graph with id={rand_ix}')\n",
        "    \n",
        "    pg_graph = dataset[rand_ix]\n",
        "    nx_graph = to_networkx(pg_graph, to_undirected=True)\n",
        "    colors = [COLORS[np.argmax(features[:4])] for features in pg_graph.x]\n",
        "    labels = {\n",
        "        i: atom_types[np.argmax(features[:4])]\n",
        "        for i, features in enumerate(pg_graph.x)\n",
        "    }\n",
        "    \n",
        "    draw_colored_graph(nx_graph, colors, labels=labels, ax=curr_ax)"
      ],
      "id": "respective-broad",
      "execution_count": null,
      "outputs": []
    },
    {
      "cell_type": "code",
      "metadata": {
        "id": "according-accent"
      },
      "source": [
        "from torch_geometric.loader import DataLoader\n",
        "\n",
        "batch_size = 32\n",
        "data_size = len(dataset)\n",
        "\n",
        "all_indices_shuffled = np.arange(N)\n",
        "np.random.shuffle(all_indices_shuffled)\n",
        "\n",
        "train_loader = DataLoader(dataset[all_indices_shuffled[:int(data_size * 0.8)]], batch_size=batch_size)\n",
        "val_loader = DataLoader(dataset[all_indices_shuffled[int(data_size * 0.8):int(data_size * 0.9)]], batch_size=batch_size)\n",
        "test_loader = DataLoader(dataset[all_indices_shuffled[int(data_size * 0.9):]], batch_size=batch_size)"
      ],
      "id": "according-accent",
      "execution_count": null,
      "outputs": []
    },
    {
      "cell_type": "markdown",
      "source": [
        "Since the signle value is to be predicted, a network that always outputs the mean of this value in the dataset,  the MSE of such prediction equals to variance. We consider the variance of the predicted value as the base MSE that should be overperformed by the predictor."
      ],
      "metadata": {
        "id": "41fJ7b_Xw8Ra"
      },
      "id": "41fJ7b_Xw8Ra"
    },
    {
      "cell_type": "code",
      "source": [
        "def calculate_default_mse(loader, target_ix):\n",
        "    output = np.zeros(0,)\n",
        "    for batch in loader:\n",
        "        output = np.append(output,batch.y[:, target_ix])\n",
        "    return np.var(output)"
      ],
      "metadata": {
        "id": "ca38u_EvyZkF"
      },
      "id": "ca38u_EvyZkF",
      "execution_count": null,
      "outputs": []
    },
    {
      "cell_type": "code",
      "source": [
        "# In this seminar we will predict the HOMO energy.\n",
        "# This value goes the 3rd in the list of all targets in the PyG QM9 dataset\n",
        "# For details, see https://pytorch-geometric.readthedocs.io/en/latest/modules/datasets.html#torch_geometric.datasets.QM9\n",
        "target_homo_ix = 2\n",
        "\n",
        "\n",
        "train_default_mse = calculate_default_mse(train_loader, target_homo_ix)\n",
        "val_default_mse = calculate_default_mse(val_loader, target_homo_ix)\n",
        "test_default_mse = calculate_default_mse(test_loader, target_homo_ix)\n",
        "print('Training set default MSE: {:.4f}'.format(train_default_mse))\n",
        "print('Validation set default MSE: {:.4f}'.format(val_default_mse))\n",
        "print('Test set default MSE: {:.4f}'.format(test_default_mse))"
      ],
      "metadata": {
        "id": "pE2_9PBK0B33"
      },
      "id": "pE2_9PBK0B33",
      "execution_count": null,
      "outputs": []
    },
    {
      "cell_type": "markdown",
      "metadata": {
        "id": "6NfCqTkoXTQj"
      },
      "source": [
        "### Task 4.1 – Implement GNN for graph regresion"
      ],
      "id": "6NfCqTkoXTQj"
    },
    {
      "cell_type": "markdown",
      "metadata": {
        "id": "bR3TF5UhXkbL"
      },
      "source": [
        "Architecture is up to you. Feel free to use GCN, GIN or GAT as well as [any other](https://pytorch-geometric.readthedocs.io/en/latest/modules/nn.html#convolutional-layers) layers.\n",
        "\n",
        "**It's time to create a mutant!**\n",
        "\n",
        "<div>\n",
        "<img src=\"https://naked-science.ru/wp-content/uploads/2016/04/article_14231592739196-1200x720.jpg\" width=\"500\"/>\n",
        "</div>\n",
        "\n",
        "A. Create a sequence of layers after message-passsing layers\n",
        "\n",
        "B. Select a graph pooling"
      ],
      "id": "bR3TF5UhXkbL"
    },
    {
      "cell_type": "code",
      "metadata": {
        "id": "complicated-hindu"
      },
      "source": [
        "import torch.nn as nn\n",
        "import torch.nn.functional as F\n",
        "\n",
        "import torch_geometric.nn as pyg_nn\n",
        "\n",
        "class GNN(torch.nn.Module):\n",
        "    def __init__(self, input_dim, hidden_dim, output_dim, dropout=0.0, layers_types = ['GCN', 'GCN', 'GCN'], activation = nn.functional.relu, gcn_mode = 'basic', gcn_normalization_type = '1', gat_num_heads = 16, gin_mlp_num_layers = 3, gin_aggr = 'sum'):\n",
        "        super(GNN, self).__init__()\n",
        "        \n",
        "        self.dropout = dropout\n",
        "\n",
        "        \n",
        "\n",
        "        layers = []\n",
        "        for i_l, lt in enumerate(layers_types):\n",
        "            assert lt in ['GCN', 'GIN', 'GAT'], 'Wrong layer type'\n",
        "            if i_l == 0:\n",
        "                input_dim_layer = input_dim\n",
        "            else:\n",
        "                input_dim_layer = hidden_dim\n",
        "            if lt is 'GCN':\n",
        "              layers.append(\n",
        "                  (GCN(input_dim_layer, hidden_dim, mode = gcn_mode, activation = activation, normalization_type = gcn_normalization_type), 'x, edge_index -> x')\n",
        "                  )\n",
        "            elif lt is 'GIN':\n",
        "              layers.append(\n",
        "                  (GIN(input_dim_layer, hidden_dim, activation = activation, aggr = gin_aggr, mlp_num_layers = gin_mlp_num_layers), 'x, edge_index -> x')\n",
        "                  )\n",
        "            elif lt in 'GAT':\n",
        "              layers.append(\n",
        "                  (GAT(input_dim_layer, hidden_dim, gat_num_heads, activation = activation), 'x, edge_index -> x')\n",
        "                  )\n",
        "        self.convs = pyg_nn.Sequential('x, edge_index', layers)\n",
        "\n",
        "        # Task 4.1.A\n",
        "        # YOUR CODE HERE:\n",
        "        post_mp_layers = [\n",
        "                          ...\n",
        "        ]\n",
        "        self.post_mp = nn.Sequential(*post_mp_layers)\n",
        "\n",
        "    def forward(self, data):\n",
        "        x, edge_index, batch = data.x, data.edge_index, data.batch\n",
        "        \n",
        "        # Apply GCN layers with non-linearities (ReLU)\n",
        "        x = self.convs(x, edge_index) # shape [N, hidden_dim]\n",
        "        \n",
        "        # Task 4.1.B\n",
        "        # YOUR CODE HERE:\n",
        "        x = ...# shape [B, hidden_dim], B is batch size\n",
        "        \n",
        "        # Apply post-message-passing transformations\n",
        "        x = self.post_mp(x) # shape [B, out_dim]\n",
        "\n",
        "        return x"
      ],
      "id": "complicated-hindu",
      "execution_count": null,
      "outputs": []
    },
    {
      "cell_type": "code",
      "metadata": {
        "id": "musical-cruise"
      },
      "source": [
        "# Check:\n",
        "hidden_dim = 10\n",
        "\n",
        "gnn = GNN(\n",
        "    input_dim=dataset.num_node_features, \n",
        "    hidden_dim=hidden_dim, \n",
        "    output_dim=dataset.num_classes, # 19 \n",
        ")\n",
        "\n",
        "rand_idx = np.random.randint(0, len(train_loader))\n",
        "graph = train_loader.__iter__().next()\n",
        "\n",
        "output = gnn(graph)\n",
        "\n",
        "if output.shape == torch.Size([train_loader.batch_size, dataset.num_classes]): \n",
        "    print('Good job!')\n",
        "else:\n",
        "    print('Error: GNN should output a 2-dimensional tensor of shape (batch_size, num_classes)')"
      ],
      "id": "musical-cruise",
      "execution_count": null,
      "outputs": []
    },
    {
      "cell_type": "markdown",
      "metadata": {
        "id": "97mvIIGiZBUC"
      },
      "source": [
        "### Task 4.2 – Train GNN\n",
        "\n",
        "Keep in mind that now we'are going to predict a real value instead of class so we need to change loss function and the way we evaluate the model.\n",
        "\n",
        "A. Suggest sets of hyperparameters "
      ],
      "id": "97mvIIGiZBUC"
    },
    {
      "cell_type": "code",
      "metadata": {
        "id": "negative-sapphire"
      },
      "source": [
        "import torch.nn.functional as F\n",
        "\n",
        "from tqdm import tqdm\n",
        "\n",
        "def mse_loss(predictions, targets):\n",
        "    return F.mse_loss(predictions, targets)\n",
        "\n",
        "\n",
        "# Wrapper for different architectures\n",
        "def model_forward(model, batch):\n",
        "    if model.__class__.__name__ == 'GNN':\n",
        "        return model(batch)\n",
        "    if model.__class__.__name__ == 'SchNet':\n",
        "        return model(batch.z, batch.pos, batch.batch)\n",
        "    raise Exception('Unknown model')\n",
        "\n",
        "\n",
        "def train_graph_regression(model, optimizer, train_loader, val_loader, target_ix, epochs):\n",
        "    train_mse = []\n",
        "    val_mse = []\n",
        "\n",
        "    # for epoch in range(epochs):\n",
        "    for epoch in tqdm(range(epochs)):\n",
        "        batch_train_mse = []\n",
        "        batch_val_mse = []\n",
        "\n",
        "        model.train()\n",
        "        for batch in train_loader:\n",
        "        # for batch in tqdm(train_loader, desc=f'Epoch {epoch} train'):\n",
        "            # Get model predictions\n",
        "            predictions = model_forward(model, batch).squeeze()\n",
        "            \n",
        "            # Get ground-truth values\n",
        "            targets = batch.y[:, target_ix].squeeze() # [B, 1] -> [B]\n",
        "            \n",
        "            # Calculate loss\n",
        "            loss = mse_loss(predictions, targets)\n",
        "            \n",
        "            loss.backward()\n",
        "            optimizer.step()\n",
        "            optimizer.zero_grad()\n",
        "\n",
        "            batch_train_mse.append(float(loss.data.numpy()))\n",
        "\n",
        "        train_mse.append(np.mean(batch_train_mse))\n",
        "\n",
        "        model.eval()\n",
        "        # for batch in tqdm(val_loader, desc=f'Epoch {epoch} valid'):\n",
        "        for batch in val_loader:\n",
        "            predictions = model_forward(model, batch).squeeze()\n",
        "            targets = batch.y[:, target_ix].squeeze()\n",
        "            batch_val_mse.append(mse_loss(predictions, targets).detach().numpy())\n",
        "\n",
        "        val_mse.append(np.mean(batch_val_mse))\n",
        "        \n",
        "    return model, train_mse, val_mse\n",
        "\n",
        "\n",
        "def plot_progress(train_mse, val_mse):\n",
        "    fig, (train_ax, val_ax) = plt.subplots(nrows=1, ncols=2, figsize=(15, 5))\n",
        "\n",
        "    train_ax.plot(train_mse)\n",
        "    train_ax.set_title('Train MSE')\n",
        "    train_ax.set_xlabel('Epoch')\n",
        "    train_ax.set_xlim(left = 1)\n",
        "    train_ax.set_ylim(top = np.max(train_mse[1:]), bottom = np.min(train_mse[1:]))\n",
        "\n",
        "    val_ax.plot(val_mse)\n",
        "    val_ax.plot(val_default_mse *np.ones_like(val_mse), c='r', label = 'default_mse')\n",
        "    val_ax.set_title('Val MSE')\n",
        "    val_ax.set_xlabel('Epoch')\n",
        "\n",
        "    plt.legend()\n",
        "    plt.show()\n",
        "    \n",
        "def evaluate_graph_regression(model, loader, target_ix):\n",
        "    loss = []\n",
        "    model.eval()\n",
        "    # for batch in tqdm(loader):\n",
        "    for batch in loader:\n",
        "\n",
        "        # Get predicted values\n",
        "        pred = model_forward(model, batch).squeeze()\n",
        "\n",
        "        # Get ground-truth values\n",
        "        true = batch.y[:, target_ix].squeeze()\n",
        "\n",
        "        loss.append(mse_loss(pred, true).detach().numpy())\n",
        "\n",
        "    return np.mean(loss)"
      ],
      "id": "negative-sapphire",
      "execution_count": null,
      "outputs": []
    },
    {
      "cell_type": "code",
      "metadata": {
        "id": "indonesian-april"
      },
      "source": [
        "import torch.optim as optim\n",
        "\n",
        "\n",
        "activation_functions_dict = {\n",
        "    'tanh': torch.tanh,\n",
        "    'sigmoid': sigmoid,\n",
        "    'relu': F.relu\n",
        "}\n",
        "\n",
        "# Task 4.2.A\n",
        "# YOUR CODE HERE:\n",
        "# [layes_types, gcn_mode, gcn_normalization, gin_mlp_num_layers, gin_aggr, gat_num_heads, dropout, activation_function]\n",
        "hyperparameters_sets = [\n",
        "                        [['GCN', 'GIN', 'GAT'], ..., ..., ..., ..., ..., ..., ...],\n",
        "]\n",
        "\n"
      ],
      "id": "indonesian-april",
      "execution_count": null,
      "outputs": []
    },
    {
      "cell_type": "code",
      "metadata": {
        "id": "s_ACiUu5XgPV"
      },
      "source": [
        "table = [['# model', 'Layers types', 'GCN mode' 'GCN noramlization type', 'GIN MLP number of layers', 'GIN aggregation', 'GAT number of heads', 'Dropout', 'Activation function', 'Test set MSE']]\n",
        "best_model = None\n",
        "best_loss = np.inf\n",
        "target_homo_ix = 2\n",
        "epochs = 100\n",
        "for i_hs, hyperparameters_set in enumerate(hyperparameters_sets):\n",
        "    layers_types, gcn_mode, gcn_normalization_type, gin_mlp_num_layers, gin_aggr, gat_num_heads, dropout, activation_function_name  = hyperparameters_set\n",
        "    model = GNN(\n",
        "        input_dim=dataset.num_node_features, \n",
        "        hidden_dim=16, \n",
        "        output_dim=1, \n",
        "        dropout=0.0, \n",
        "        layers_types = layers_types, \n",
        "        activation = nn.functional.relu, \n",
        "        gcn_mode = 'basic', \n",
        "        gcn_normalization_type = '1', \n",
        "        gin_mlp_num_layers = gin_mlp_num_layers,\n",
        "        gin_aggr = gin_aggr,\n",
        "        gat_num_heads = gat_num_heads\n",
        "    )\n",
        "    optimizer = optim.Adam(model.parameters(), lr=.001)\n",
        "    model, train_loss, val_loss = train_graph_regression(model, optimizer, train_loader, val_loader, target_homo_ix, epochs)\n",
        "    plot_progress(train_loss, val_loss)\n",
        "    loss = evaluate_graph_regression(model, test_loader, target_homo_ix)\n",
        "    print('Test set MSE: {:.5f}'.format(loss))\n",
        "    if loss < best_loss:\n",
        "        best_loss = loss\n",
        "        best_model = copy.deepcopy(model)\n",
        "    table.append([str(i_hs+1)] + hyperparameters_set + [loss])\n",
        "\n",
        "\n",
        "\n",
        "\n",
        "\n"
      ],
      "id": "s_ACiUu5XgPV",
      "execution_count": null,
      "outputs": []
    },
    {
      "cell_type": "code",
      "source": [
        "print(tabulate(table, headers='firstrow', tablefmt='fancy_grid'))"
      ],
      "metadata": {
        "id": "pM7sIH2wPtDY"
      },
      "id": "pM7sIH2wPtDY",
      "execution_count": null,
      "outputs": []
    },
    {
      "cell_type": "code",
      "source": [
        "print('MSE on the test set of the best model:', best_loss)\n",
        "if best_loss < test_default_mse:\n",
        "    print('Good job!')\n",
        "else:\n",
        "    print('Try better!')"
      ],
      "metadata": {
        "id": "EM9Nq57U-abA"
      },
      "id": "EM9Nq57U-abA",
      "execution_count": null,
      "outputs": []
    },
    {
      "cell_type": "markdown",
      "metadata": {
        "id": "qQ565WqMctfI"
      },
      "source": [
        "# SchNet and Equivariance\n",
        "\n",
        "* [original paper](https://arxiv.org/abs/1706.08566)\n",
        "* [original code](https://github.com/atomistic-machine-learning/SchNet)\n",
        "\n",
        "SchNet is one of the first GCN models where authors attempted to take into accout geometry of the underlying data. \n",
        "\n",
        "In case of molecular graphs, each node $v_i$ of graph $G$ is an atom that is characterized by its vector of features $\\boldsymbol{z}_i\\in\\mathbb{R}^d$ and by its position $\\boldsymbol{r}_i\\in\\mathbb{R}^3$. In general, the graph itself may not include the information about spatial relations between atoms. To take it into account, rotation-invariant _continuous-filter convolutions_ were proposed:\n",
        "\n",
        "$$\n",
        "z'_i=\\sum_{j=1}^Nz_j\\circ\\boldsymbol{W}(\\boldsymbol{r_i}-\\boldsymbol{r}_j),\\tag{9}\n",
        "$$\n",
        "\n",
        "where $\\boldsymbol{W}(\\boldsymbol{r_i}-\\boldsymbol{r}_j)$ is a trainable and relative-distance-dependent filter, and $\\circ$ denotes element-wise multiplication.\n",
        "\n",
        "One of the most important aspects of learning on 3D objects is the fact that in most cases we do not have the fixed and preferred global orientation. When constructing geometric-learning models, one should take it into account and impose additional symmetry-related constraints on the model. This constraint is called $equivariance$ can be required with respect to rotations and translations in case of 3D space. More formally, having some group $G$ (e.g. group of rotations in 3D) and a function $f:X\\to Y$, this function is called $G$-$equivariant$ if for any $x\\in{X}$ and for any $g\\in{G}$\n",
        "\n",
        "$$\n",
        "f(\\rho_X(g)(x))=\\rho_Y(g)(f(x)),\\tag{10}\n",
        "$$\n",
        "\n",
        "where $\\rho_X:G\\to{GL}(X)$ and $\\rho_Y:G\\to{GL}(Y)$ are representations of group $G$ on spaces $X$ and $Y$ respectively. In case if $\\rho_Y=1$, function $f$ is called $G$-$invariant$.\n",
        "\n",
        "In case of (9), filters $\\boldsymbol{W}(\\boldsymbol{r_i}-\\boldsymbol{r}_j)$ are constructed to be rotation- and translation-invariant. To do it, we will make them depend only on distances between molecules:\n",
        "\n",
        "$$\n",
        "\\boldsymbol{W}(\\boldsymbol{r_i}-\\boldsymbol{r}_j)=\\boldsymbol{W}(\\|\\boldsymbol{r_i}-\\boldsymbol{r}_j\\|).\\tag{11}\n",
        "$$\n",
        "\n",
        "In SchNet, these filters are constructed as MLPs that operate on $K$-dimensional radial basis finctions $\\{\\boldsymbol{e}_{ij}\\}$:\n",
        "\n",
        "$$\n",
        "\\boldsymbol{W}(\\boldsymbol{r_i}-\\boldsymbol{r}_j)=\n",
        "\\sigma(\\boldsymbol{W}_2\\sigma(\\boldsymbol{W}_1\\boldsymbol{e}_{ij})),\\tag{12}\n",
        "$$\n",
        "\n",
        "where \n",
        "\n",
        "$$\n",
        "\\boldsymbol{e}_{ij}=\\big(e_{ij}^{(1)},\\dots,e_{ij}^{(K)}\\big)^{\\text{T}}, \\tag{13}\n",
        "$$\n",
        "\n",
        "and\n",
        "\n",
        "$$\n",
        "e_{ij}^{(k)}=exp\\big(-\\gamma\\big[\\|\\boldsymbol{r}_i-\\boldsymbol{r}_j\\|-\\mu_k\\big]^2\\big).\\tag{14}\n",
        "$$\n",
        "\n",
        "Here, $\\sigma$ is non-linearity, $K$, $\\gamma$ and $\\{\\mu_k\\}$ are adjustable hyperparameters and $\\boldsymbol{W}_1$ and $\\boldsymbol{W}_2$ are trainable matrices.\n",
        "\n",
        "In the original paper, $\\sigma(x)=\\ln(0.5e^x+0.5)$, $K=300$, $0Å\\leq\\mu_k\\leq30Å$ every $0.1$Å, and $\\gamma=10$Å."
      ],
      "id": "qQ565WqMctfI"
    },
    {
      "cell_type": "markdown",
      "metadata": {
        "id": "WCoRI1xpohJj"
      },
      "source": [
        "<div>\n",
        "<img src=\"https://user-images.githubusercontent.com/7134790/65094886-d8dda800-d9f9-11e9-92e8-2737c4913ab7.png\" width=\"800\"/>\n",
        "</div>"
      ],
      "id": "WCoRI1xpohJj"
    },
    {
      "cell_type": "markdown",
      "metadata": {
        "id": "dGRPhCGHpZRZ"
      },
      "source": [
        "Here we will not implement SchNet by ourselves, but we can [import it from PyTorch Geometric](https://pytorch-geometric.readthedocs.io/en/latest/modules/nn.html#torch_geometric.nn.models.SchNet) and train on QM9."
      ],
      "id": "dGRPhCGHpZRZ"
    },
    {
      "cell_type": "code",
      "metadata": {
        "id": "drawn-graham"
      },
      "source": [
        "from torch_geometric.nn import SchNet\n",
        "\n",
        "# YOUR CODE HERE\n",
        "model = SchNet()\n",
        "optimizer = optim.Adam(model.parameters(), lr=.001)"
      ],
      "id": "drawn-graham",
      "execution_count": null,
      "outputs": []
    },
    {
      "cell_type": "code",
      "metadata": {
        "scrolled": false,
        "id": "tutorial-tooth"
      },
      "source": [
        "epochs = 5\n",
        "target_homo_ix = 2\n",
        "model, train_mse, val_mse = train_graph_regression(\n",
        "    model, \n",
        "    optimizer, \n",
        "    train_loader, \n",
        "    val_loader, \n",
        "    target_homo_ix, \n",
        "    epochs\n",
        ")\n",
        "plot_progress(train_mse, val_mse)"
      ],
      "id": "tutorial-tooth",
      "execution_count": null,
      "outputs": []
    },
    {
      "cell_type": "code",
      "metadata": {
        "id": "posted-dispute"
      },
      "source": [
        "loss = evaluate_graph_regression(model, test_loader, target_homo_ix)\n",
        "\n",
        "print('MSE:', loss)\n",
        "if loss <= 0.2:\n",
        "    print('Good job!')\n",
        "else:\n",
        "    print('Try better!')"
      ],
      "id": "posted-dispute",
      "execution_count": null,
      "outputs": []
    },
    {
      "cell_type": "code",
      "metadata": {
        "id": "3vAacrsBXY3D"
      },
      "source": [
        "pytorch_total_params = sum(p.numel() for p in model.parameters())"
      ],
      "id": "3vAacrsBXY3D",
      "execution_count": null,
      "outputs": []
    },
    {
      "cell_type": "code",
      "metadata": {
        "id": "ab8BhFMIXahv"
      },
      "source": [
        "pytorch_total_params"
      ],
      "id": "ab8BhFMIXahv",
      "execution_count": null,
      "outputs": []
    },
    {
      "cell_type": "markdown",
      "metadata": {
        "id": "cFeiS0Olrq_X"
      },
      "source": [
        "# Further reading\n",
        "\n",
        "In order to read more about geometric learning, message passing and equivariance, we refer to the following sources:\n",
        "* [Geometric Learning](https://arxiv.org/abs/2104.13478)\n",
        "* [Directional Message Passing](https://arxiv.org/abs/2003.03123)\n",
        "* [E(n)-equivariant graph neural networks](https://arxiv.org/abs/2102.09844)\n",
        "* [SE(3)-Transformers](https://arxiv.org/abs/2006.10503)"
      ],
      "id": "cFeiS0Olrq_X"
    },
    {
      "cell_type": "code",
      "metadata": {
        "id": "funky-language"
      },
      "source": [
        ""
      ],
      "id": "funky-language",
      "execution_count": null,
      "outputs": []
    }
  ]
}