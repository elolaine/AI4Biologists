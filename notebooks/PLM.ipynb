{
  "cells": [
    {
      "cell_type": "markdown",
      "metadata": {
        "id": "view-in-github",
        "colab_type": "text"
      },
      "source": [
        "<a href=\"https://colab.research.google.com/github/elolaine/AI4Biologists/blob/main/notebooks/PLM.ipynb\" target=\"_parent\"><img src=\"https://colab.research.google.com/assets/colab-badge.svg\" alt=\"Open In Colab\"/></a>"
      ]
    },
    {
      "cell_type": "code",
      "execution_count": null,
      "metadata": {
        "id": "kvqIQ7R_d39h"
      },
      "outputs": [],
      "source": [
        "from os import path\n",
        "import pandas as pd\n",
        "import numpy as np\n",
        "from numpy import asarray\n",
        "import seaborn as sns\n",
        "import matplotlib.pyplot as plt\n",
        "import gc\n",
        "from sklearn.manifold import TSNE #t-sne for data visualisation of the embedding vectors\n",
        "import time\n",
        "from tqdm.keras import TqdmCallback\n",
        "import h5py"
      ]
    },
    {
      "cell_type": "markdown",
      "metadata": {
        "id": "A00v-bTz0KW1"
      },
      "source": [
        "#### Retrieve data: protein sequences and labels (Pfam family)"
      ]
    },
    {
      "cell_type": "code",
      "execution_count": 15,
      "metadata": {
        "colab": {
          "base_uri": "https://localhost:8080/"
        },
        "id": "F0kFFsVr0FMO",
        "outputId": "7e5bfa94-caed-4c17-e78d-1f82e9596db3"
      },
      "outputs": [
        {
          "output_type": "stream",
          "name": "stdout",
          "text": [
            "/usr/local/lib/python3.7/dist-packages/gdown/cli.py:131: FutureWarning: Option `--id` was deprecated in version 4.3.1 and will be removed in 5.0. You don't need to pass it anymore to use a file ID.\n",
            "  category=FutureWarning,\n",
            "Downloading...\n",
            "From: https://drive.google.com/uc?id=1ZRKQdrYu0tCT7kW-tmbpJ3N9ov9igbQG\n",
            "To: /content/input.fasta\n",
            "100% 42.0k/42.0k [00:00<00:00, 57.0MB/s]\n",
            "/usr/local/lib/python3.7/dist-packages/gdown/cli.py:131: FutureWarning: Option `--id` was deprecated in version 4.3.1 and will be removed in 5.0. You don't need to pass it anymore to use a file ID.\n",
            "  category=FutureWarning,\n",
            "Downloading...\n",
            "From: https://drive.google.com/uc?id=1Me9zJth8PV7z4LCYttjVNQnEwBMD9K4W\n",
            "To: /content/input.csv\n",
            "100% 43.8k/43.8k [00:00<00:00, 58.0MB/s]\n"
          ]
        }
      ],
      "source": [
        "!gdown --id '1ZRKQdrYu0tCT7kW-tmbpJ3N9ov9igbQG'\n",
        "!gdown --id '1Me9zJth8PV7z4LCYttjVNQnEwBMD9K4W'"
      ]
    },
    {
      "cell_type": "markdown",
      "source": [
        "Read the labels"
      ],
      "metadata": {
        "id": "mSExjfxLYzPz"
      }
    },
    {
      "cell_type": "code",
      "source": [
        "df = pd.read_csv('/content/input.csv')\n",
        "df"
      ],
      "metadata": {
        "colab": {
          "base_uri": "https://localhost:8080/",
          "height": 424
        },
        "id": "-O0ThRH8ZB8A",
        "outputId": "84415733-ee9f-4e32-b18b-0e478dd99bf1"
      },
      "execution_count": 16,
      "outputs": [
        {
          "output_type": "execute_result",
          "data": {
            "text/plain": [
              "              UniprotId                                                Seq  \\\n",
              "0      A0A671VDZ5/18-86  INLKVAGQDGSVVQFKIKRHTPLSKLMKAYCERQGLTLRQIRFRFD...   \n",
              "1      A0A2T4H7P2/23-88  IKVTDNNNEVFFKIKRTTKLEKLMGAFCERQGKATSSVRFLFDGTR...   \n",
              "2       A0A2A3EG26/7-35                      CPCCKELFVEPVLLPCWHALCLACAVNLQ   \n",
              "3    A0A384DIE7/467-542  VVLHRGSTGLGFNIVGGEDGEGIFISFILAGGPADLSGELRKGDRI...   \n",
              "4    A0A481BKW6/137-162                         WVENKTPDGKVYYYNARTRESAWTKP   \n",
              "..                  ...                                                ...   \n",
              "315   A0A7K8W4C1/12-154  RLAQERKAWRKDHPFGFVAVPTKNPDGTMNLMNWECAIPGKKGTPW...   \n",
              "316    A0A5G2QLK1/21-90  IKLKVIGQDSSEIHFKVKMTTHLKKLKESYCQRQGVPMNSLRFLFE...   \n",
              "317  A0A4C1UXA4/662-858  GLEATLPNSYCNPMLQVLYYTLPIKDVLLTHTCAKEFCLSCQLGFL...   \n",
              "318  A0A7M7II71/230-320  DSHGFGICVKGGKDAGEIRSTFRLPPSPYFAPQDRGVGVYISRVEE...   \n",
              "319  A0A2K5IYX3/908-946            CPCCNTRKKDAVLTKCFHVFCFECVRGRYEARQRKCPKC   \n",
              "\n",
              "       Class  \n",
              "0    PF11976  \n",
              "1    PF11976  \n",
              "2    PF00097  \n",
              "3    PF00595  \n",
              "4    PF00397  \n",
              "..       ...  \n",
              "315  PF00179  \n",
              "316  PF11976  \n",
              "317  PF13423  \n",
              "318  PF00595  \n",
              "319  PF00097  \n",
              "\n",
              "[320 rows x 3 columns]"
            ],
            "text/html": [
              "\n",
              "  <div id=\"df-ce443613-3572-4f54-8ce2-086d73728238\">\n",
              "    <div class=\"colab-df-container\">\n",
              "      <div>\n",
              "<style scoped>\n",
              "    .dataframe tbody tr th:only-of-type {\n",
              "        vertical-align: middle;\n",
              "    }\n",
              "\n",
              "    .dataframe tbody tr th {\n",
              "        vertical-align: top;\n",
              "    }\n",
              "\n",
              "    .dataframe thead th {\n",
              "        text-align: right;\n",
              "    }\n",
              "</style>\n",
              "<table border=\"1\" class=\"dataframe\">\n",
              "  <thead>\n",
              "    <tr style=\"text-align: right;\">\n",
              "      <th></th>\n",
              "      <th>UniprotId</th>\n",
              "      <th>Seq</th>\n",
              "      <th>Class</th>\n",
              "    </tr>\n",
              "  </thead>\n",
              "  <tbody>\n",
              "    <tr>\n",
              "      <th>0</th>\n",
              "      <td>A0A671VDZ5/18-86</td>\n",
              "      <td>INLKVAGQDGSVVQFKIKRHTPLSKLMKAYCERQGLTLRQIRFRFD...</td>\n",
              "      <td>PF11976</td>\n",
              "    </tr>\n",
              "    <tr>\n",
              "      <th>1</th>\n",
              "      <td>A0A2T4H7P2/23-88</td>\n",
              "      <td>IKVTDNNNEVFFKIKRTTKLEKLMGAFCERQGKATSSVRFLFDGTR...</td>\n",
              "      <td>PF11976</td>\n",
              "    </tr>\n",
              "    <tr>\n",
              "      <th>2</th>\n",
              "      <td>A0A2A3EG26/7-35</td>\n",
              "      <td>CPCCKELFVEPVLLPCWHALCLACAVNLQ</td>\n",
              "      <td>PF00097</td>\n",
              "    </tr>\n",
              "    <tr>\n",
              "      <th>3</th>\n",
              "      <td>A0A384DIE7/467-542</td>\n",
              "      <td>VVLHRGSTGLGFNIVGGEDGEGIFISFILAGGPADLSGELRKGDRI...</td>\n",
              "      <td>PF00595</td>\n",
              "    </tr>\n",
              "    <tr>\n",
              "      <th>4</th>\n",
              "      <td>A0A481BKW6/137-162</td>\n",
              "      <td>WVENKTPDGKVYYYNARTRESAWTKP</td>\n",
              "      <td>PF00397</td>\n",
              "    </tr>\n",
              "    <tr>\n",
              "      <th>...</th>\n",
              "      <td>...</td>\n",
              "      <td>...</td>\n",
              "      <td>...</td>\n",
              "    </tr>\n",
              "    <tr>\n",
              "      <th>315</th>\n",
              "      <td>A0A7K8W4C1/12-154</td>\n",
              "      <td>RLAQERKAWRKDHPFGFVAVPTKNPDGTMNLMNWECAIPGKKGTPW...</td>\n",
              "      <td>PF00179</td>\n",
              "    </tr>\n",
              "    <tr>\n",
              "      <th>316</th>\n",
              "      <td>A0A5G2QLK1/21-90</td>\n",
              "      <td>IKLKVIGQDSSEIHFKVKMTTHLKKLKESYCQRQGVPMNSLRFLFE...</td>\n",
              "      <td>PF11976</td>\n",
              "    </tr>\n",
              "    <tr>\n",
              "      <th>317</th>\n",
              "      <td>A0A4C1UXA4/662-858</td>\n",
              "      <td>GLEATLPNSYCNPMLQVLYYTLPIKDVLLTHTCAKEFCLSCQLGFL...</td>\n",
              "      <td>PF13423</td>\n",
              "    </tr>\n",
              "    <tr>\n",
              "      <th>318</th>\n",
              "      <td>A0A7M7II71/230-320</td>\n",
              "      <td>DSHGFGICVKGGKDAGEIRSTFRLPPSPYFAPQDRGVGVYISRVEE...</td>\n",
              "      <td>PF00595</td>\n",
              "    </tr>\n",
              "    <tr>\n",
              "      <th>319</th>\n",
              "      <td>A0A2K5IYX3/908-946</td>\n",
              "      <td>CPCCNTRKKDAVLTKCFHVFCFECVRGRYEARQRKCPKC</td>\n",
              "      <td>PF00097</td>\n",
              "    </tr>\n",
              "  </tbody>\n",
              "</table>\n",
              "<p>320 rows × 3 columns</p>\n",
              "</div>\n",
              "      <button class=\"colab-df-convert\" onclick=\"convertToInteractive('df-ce443613-3572-4f54-8ce2-086d73728238')\"\n",
              "              title=\"Convert this dataframe to an interactive table.\"\n",
              "              style=\"display:none;\">\n",
              "        \n",
              "  <svg xmlns=\"http://www.w3.org/2000/svg\" height=\"24px\"viewBox=\"0 0 24 24\"\n",
              "       width=\"24px\">\n",
              "    <path d=\"M0 0h24v24H0V0z\" fill=\"none\"/>\n",
              "    <path d=\"M18.56 5.44l.94 2.06.94-2.06 2.06-.94-2.06-.94-.94-2.06-.94 2.06-2.06.94zm-11 1L8.5 8.5l.94-2.06 2.06-.94-2.06-.94L8.5 2.5l-.94 2.06-2.06.94zm10 10l.94 2.06.94-2.06 2.06-.94-2.06-.94-.94-2.06-.94 2.06-2.06.94z\"/><path d=\"M17.41 7.96l-1.37-1.37c-.4-.4-.92-.59-1.43-.59-.52 0-1.04.2-1.43.59L10.3 9.45l-7.72 7.72c-.78.78-.78 2.05 0 2.83L4 21.41c.39.39.9.59 1.41.59.51 0 1.02-.2 1.41-.59l7.78-7.78 2.81-2.81c.8-.78.8-2.07 0-2.86zM5.41 20L4 18.59l7.72-7.72 1.47 1.35L5.41 20z\"/>\n",
              "  </svg>\n",
              "      </button>\n",
              "      \n",
              "  <style>\n",
              "    .colab-df-container {\n",
              "      display:flex;\n",
              "      flex-wrap:wrap;\n",
              "      gap: 12px;\n",
              "    }\n",
              "\n",
              "    .colab-df-convert {\n",
              "      background-color: #E8F0FE;\n",
              "      border: none;\n",
              "      border-radius: 50%;\n",
              "      cursor: pointer;\n",
              "      display: none;\n",
              "      fill: #1967D2;\n",
              "      height: 32px;\n",
              "      padding: 0 0 0 0;\n",
              "      width: 32px;\n",
              "    }\n",
              "\n",
              "    .colab-df-convert:hover {\n",
              "      background-color: #E2EBFA;\n",
              "      box-shadow: 0px 1px 2px rgba(60, 64, 67, 0.3), 0px 1px 3px 1px rgba(60, 64, 67, 0.15);\n",
              "      fill: #174EA6;\n",
              "    }\n",
              "\n",
              "    [theme=dark] .colab-df-convert {\n",
              "      background-color: #3B4455;\n",
              "      fill: #D2E3FC;\n",
              "    }\n",
              "\n",
              "    [theme=dark] .colab-df-convert:hover {\n",
              "      background-color: #434B5C;\n",
              "      box-shadow: 0px 1px 3px 1px rgba(0, 0, 0, 0.15);\n",
              "      filter: drop-shadow(0px 1px 2px rgba(0, 0, 0, 0.3));\n",
              "      fill: #FFFFFF;\n",
              "    }\n",
              "  </style>\n",
              "\n",
              "      <script>\n",
              "        const buttonEl =\n",
              "          document.querySelector('#df-ce443613-3572-4f54-8ce2-086d73728238 button.colab-df-convert');\n",
              "        buttonEl.style.display =\n",
              "          google.colab.kernel.accessAllowed ? 'block' : 'none';\n",
              "\n",
              "        async function convertToInteractive(key) {\n",
              "          const element = document.querySelector('#df-ce443613-3572-4f54-8ce2-086d73728238');\n",
              "          const dataTable =\n",
              "            await google.colab.kernel.invokeFunction('convertToInteractive',\n",
              "                                                     [key], {});\n",
              "          if (!dataTable) return;\n",
              "\n",
              "          const docLinkHtml = 'Like what you see? Visit the ' +\n",
              "            '<a target=\"_blank\" href=https://colab.research.google.com/notebooks/data_table.ipynb>data table notebook</a>'\n",
              "            + ' to learn more about interactive tables.';\n",
              "          element.innerHTML = '';\n",
              "          dataTable['output_type'] = 'display_data';\n",
              "          await google.colab.output.renderOutput(dataTable, element);\n",
              "          const docLink = document.createElement('div');\n",
              "          docLink.innerHTML = docLinkHtml;\n",
              "          element.appendChild(docLink);\n",
              "        }\n",
              "      </script>\n",
              "    </div>\n",
              "  </div>\n",
              "  "
            ]
          },
          "metadata": {},
          "execution_count": 16
        }
      ]
    },
    {
      "cell_type": "markdown",
      "source": [
        "- How many protein sequences do  we have?\n",
        "- What are the minimum and maximum lengths of the sequences?"
      ],
      "metadata": {
        "id": "kxFUYxpWZfre"
      }
    },
    {
      "cell_type": "code",
      "source": [
        "??"
      ],
      "metadata": {
        "id": "P1zZhs0zZjq6"
      },
      "execution_count": 26,
      "outputs": []
    },
    {
      "cell_type": "markdown",
      "metadata": {
        "id": "z5t1oOkUTYaD"
      },
      "source": [
        "# The Protein Language Model (Bepler and Berger 2019)"
      ]
    },
    {
      "cell_type": "code",
      "execution_count": 17,
      "metadata": {
        "colab": {
          "base_uri": "https://localhost:8080/"
        },
        "id": "_ZliRwwcTYD1",
        "outputId": "2638bc94-f9c5-4a35-a109-531586af74c7"
      },
      "outputs": [
        {
          "output_type": "stream",
          "name": "stdout",
          "text": [
            "fatal: destination path 'prose' already exists and is not an empty directory.\n"
          ]
        }
      ],
      "source": [
        "!git clone https://github.com/tbepler/prose.git"
      ]
    },
    {
      "cell_type": "code",
      "execution_count": null,
      "metadata": {
        "colab": {
          "base_uri": "https://localhost:8080/"
        },
        "id": "FAcjbPV4UKXo",
        "outputId": "15b1eb37-cf2e-4baf-a2bf-613f02af15af"
      },
      "outputs": [
        {
          "name": "stdout",
          "output_type": "stream",
          "text": [
            "--2022-07-24 12:55:18--  http://bergerlab-downloads.csail.mit.edu/prose/saved_models.zip\n",
            "Resolving bergerlab-downloads.csail.mit.edu (bergerlab-downloads.csail.mit.edu)... 128.30.48.147\n",
            "Connecting to bergerlab-downloads.csail.mit.edu (bergerlab-downloads.csail.mit.edu)|128.30.48.147|:80... connected.\n",
            "HTTP request sent, awaiting response... 200 OK\n",
            "Length: 581846360 (555M) [application/zip]\n",
            "Saving to: ‘prose/saved_models.zip’\n",
            "\n",
            "saved_models.zip    100%[===================>] 554.89M  42.2MB/s    in 14s     \n",
            "\n",
            "2022-07-24 12:55:32 (41.1 MB/s) - ‘prose/saved_models.zip’ saved [581846360/581846360]\n",
            "\n"
          ]
        }
      ],
      "source": [
        "!wget -nc -P prose/ http://bergerlab-downloads.csail.mit.edu/prose/saved_models.zip"
      ]
    },
    {
      "cell_type": "code",
      "execution_count": null,
      "metadata": {
        "id": "wnuUS839UxA_"
      },
      "outputs": [],
      "source": [
        "!unzip -q -n prose/saved_models.zip -d prose/"
      ]
    },
    {
      "cell_type": "code",
      "execution_count": null,
      "metadata": {
        "id": "xhuKi3clVjY4"
      },
      "outputs": [],
      "source": [
        "#!pip install -r prose/requirements.txt"
      ]
    },
    {
      "cell_type": "markdown",
      "metadata": {
        "id": "ZpaV390WI411"
      },
      "source": [
        "Extract the embeddings"
      ]
    },
    {
      "cell_type": "code",
      "execution_count": null,
      "metadata": {
        "colab": {
          "background_save": true
        },
        "id": "573nAzCAWBIP",
        "outputId": "cab8cc7e-3783-4c6c-9429-fd71dce5c635"
      },
      "outputs": [
        {
          "name": "stdout",
          "output_type": "stream",
          "text": [
            "# loading the pre-trained ProSE MT model\n",
            "# writing: prose/data/output.h5\n",
            "# embedding with pool=avg\n"
          ]
        }
      ],
      "source": [
        "!python3 prose/embed_sequences.py --pool avg -o prose/data/output.h5 /content/input.fasta"
      ]
    },
    {
      "cell_type": "code",
      "execution_count": 18,
      "metadata": {
        "id": "F87RNlw43XU0"
      },
      "outputs": [],
      "source": [
        "hf_embeddings = h5py.File('prose/data/output.h5', 'r')\n",
        "embeddings = {x: np.array(hf_embeddings[x]) for x in df.UniprotId.to_list()}"
      ]
    },
    {
      "cell_type": "code",
      "execution_count": 27,
      "metadata": {
        "colab": {
          "base_uri": "https://localhost:8080/"
        },
        "id": "jNvcaBZpehlm",
        "outputId": "7137c4a8-0af6-43a4-e15d-79edf9714545"
      },
      "outputs": [
        {
          "output_type": "stream",
          "name": "stdout",
          "text": [
            "['A0A671VDZ5/18-86', 'A0A2T4H7P2/23-88', 'A0A2A3EG26/7-35', 'A0A384DIE7/467-542', 'A0A481BKW6/137-162', 'A0A3P9DKY7/475-591', 'A0A316YP75/8-46', 'A0A2R8PDT9/22-91', 'A0A6J2WFH4/12-52', 'A0A6J0SWF7/652-705']\n",
            "['A0A671VDZ5/18-86', 'A0A2T4H7P2/23-88', 'A0A2A3EG26/7-35', 'A0A384DIE7/467-542', 'A0A481BKW6/137-162', 'A0A3P9DKY7/475-591', 'A0A316YP75/8-46', 'A0A2R8PDT9/22-91', 'A0A6J2WFH4/12-52', 'A0A6J0SWF7/652-705']\n"
          ]
        }
      ],
      "source": [
        "print(list(embeddings.keys())[:10])\n",
        "print(list(df.UniprotId.to_list())[:10])"
      ]
    },
    {
      "cell_type": "code",
      "execution_count": 35,
      "metadata": {
        "colab": {
          "base_uri": "https://localhost:8080/"
        },
        "id": "_rh4PhdH-W56",
        "outputId": "8d6b0a63-3c17-4154-8f54-10422bbc8e41"
      },
      "outputs": [
        {
          "output_type": "stream",
          "name": "stdout",
          "text": [
            "[ 0.02898551  0.07246377  0.02898551 ...  0.04140409  0.08653378\n",
            " -0.00195555]\n"
          ]
        }
      ],
      "source": [
        "print(embeddings[list(embeddings.keys())[0]])"
      ]
    },
    {
      "cell_type": "markdown",
      "source": [
        "- What is the dimension of the embeddings ?"
      ],
      "metadata": {
        "id": "xIR1WdRJbWo9"
      }
    },
    {
      "cell_type": "code",
      "source": [
        "??"
      ],
      "metadata": {
        "id": "rXmqhi-6bbE_"
      },
      "execution_count": null,
      "outputs": []
    },
    {
      "cell_type": "code",
      "execution_count": 37,
      "metadata": {
        "id": "MuOE4X_tbWvq"
      },
      "outputs": [],
      "source": [
        "X = np.vstack(list(embeddings.values()))"
      ]
    },
    {
      "cell_type": "markdown",
      "metadata": {
        "id": "f9QVcHAPJBj_"
      },
      "source": [
        "Analyze the embeddings"
      ]
    },
    {
      "cell_type": "code",
      "execution_count": 38,
      "metadata": {
        "colab": {
          "base_uri": "https://localhost:8080/",
          "height": 1000
        },
        "id": "ajS30_DhbWvu",
        "outputId": "39293e11-8545-4e35-92e3-a3fb15257c15"
      },
      "outputs": [
        {
          "output_type": "stream",
          "name": "stderr",
          "text": [
            "/usr/local/lib/python3.7/dist-packages/sklearn/manifold/_t_sne.py:783: FutureWarning: The default initialization in TSNE will change from 'random' to 'pca' in 1.2.\n",
            "  FutureWarning,\n",
            "/usr/local/lib/python3.7/dist-packages/sklearn/manifold/_t_sne.py:793: FutureWarning: The default learning rate in TSNE will change from 200.0 to 'auto' in 1.2.\n",
            "  FutureWarning,\n"
          ]
        },
        {
          "output_type": "execute_result",
          "data": {
            "text/plain": [
              "<seaborn.axisgrid.JointGrid at 0x7fcb951dac90>"
            ]
          },
          "metadata": {},
          "execution_count": 38
        },
        {
          "output_type": "display_data",
          "data": {
            "text/plain": [
              "<Figure size 1440x1440 with 3 Axes>"
            ],
            "image/png": "[encoded data removed]"
          },
          "metadata": {
            "needs_background": "light"
          }
        }
      ],
      "source": [
        "X_embedded = TSNE(n_components=2,random_state=42).fit_transform(X)\n",
        "\n",
        "df['E1'] = X_embedded[:,0]\n",
        "df['E2'] = X_embedded[:,1]\n",
        "\n",
        "#plt.rcParams.update({'font.size': 10})\n",
        "sns.jointplot(data=df, x='E1', y='E2', hue = 'Class', height=20)\n",
        "#sns.jointplot(data=df, x='E1', y='E2', height=10)"
      ]
    },
    {
      "cell_type": "code",
      "execution_count": 36,
      "metadata": {
        "colab": {
          "base_uri": "https://localhost:8080/",
          "height": 312
        },
        "id": "IpV6KoxTIIpk",
        "outputId": "37b2315f-dd9c-44ac-e755-b7cac56482b5"
      },
      "outputs": [
        {
          "output_type": "error",
          "ename": "AttributeError",
          "evalue": "ignored",
          "traceback": [
            "\u001b[0;31m---------------------------------------------------------------------------\u001b[0m",
            "\u001b[0;31mAttributeError\u001b[0m                            Traceback (most recent call last)",
            "\u001b[0;32m<ipython-input-36-675179bd28f1>\u001b[0m in \u001b[0;36m<module>\u001b[0;34m()\u001b[0m\n\u001b[0;32m----> 1\u001b[0;31m \u001b[0mdf_new\u001b[0m \u001b[0;34m=\u001b[0m \u001b[0mdf\u001b[0m\u001b[0;34m[\u001b[0m\u001b[0;34m(\u001b[0m\u001b[0mdf\u001b[0m\u001b[0;34m.\u001b[0m\u001b[0mE1\u001b[0m\u001b[0;34m.\u001b[0m\u001b[0mbetween\u001b[0m\u001b[0;34m(\u001b[0m\u001b[0;36m0\u001b[0m\u001b[0;34m,\u001b[0m\u001b[0;36m10\u001b[0m\u001b[0;34m)\u001b[0m\u001b[0;34m)\u001b[0m \u001b[0;34m&\u001b[0m \u001b[0;34m(\u001b[0m\u001b[0mdf\u001b[0m\u001b[0;34m.\u001b[0m\u001b[0mE2\u001b[0m\u001b[0;34m.\u001b[0m\u001b[0mbetween\u001b[0m\u001b[0;34m(\u001b[0m\u001b[0;36m0\u001b[0m\u001b[0;34m,\u001b[0m\u001b[0;36m10\u001b[0m\u001b[0;34m)\u001b[0m\u001b[0;34m)\u001b[0m\u001b[0;34m]\u001b[0m\u001b[0;34m\u001b[0m\u001b[0;34m\u001b[0m\u001b[0m\n\u001b[0m\u001b[1;32m      2\u001b[0m \u001b[0mdf_new\u001b[0m\u001b[0;34m\u001b[0m\u001b[0;34m\u001b[0m\u001b[0m\n",
            "\u001b[0;32m/usr/local/lib/python3.7/dist-packages/pandas/core/generic.py\u001b[0m in \u001b[0;36m__getattr__\u001b[0;34m(self, name)\u001b[0m\n\u001b[1;32m   5485\u001b[0m         ):\n\u001b[1;32m   5486\u001b[0m             \u001b[0;32mreturn\u001b[0m \u001b[0mself\u001b[0m\u001b[0;34m[\u001b[0m\u001b[0mname\u001b[0m\u001b[0;34m]\u001b[0m\u001b[0;34m\u001b[0m\u001b[0;34m\u001b[0m\u001b[0m\n\u001b[0;32m-> 5487\u001b[0;31m         \u001b[0;32mreturn\u001b[0m \u001b[0mobject\u001b[0m\u001b[0;34m.\u001b[0m\u001b[0m__getattribute__\u001b[0m\u001b[0;34m(\u001b[0m\u001b[0mself\u001b[0m\u001b[0;34m,\u001b[0m \u001b[0mname\u001b[0m\u001b[0;34m)\u001b[0m\u001b[0;34m\u001b[0m\u001b[0;34m\u001b[0m\u001b[0m\n\u001b[0m\u001b[1;32m   5488\u001b[0m \u001b[0;34m\u001b[0m\u001b[0m\n\u001b[1;32m   5489\u001b[0m     \u001b[0;32mdef\u001b[0m \u001b[0m__setattr__\u001b[0m\u001b[0;34m(\u001b[0m\u001b[0mself\u001b[0m\u001b[0;34m,\u001b[0m \u001b[0mname\u001b[0m\u001b[0;34m:\u001b[0m \u001b[0mstr\u001b[0m\u001b[0;34m,\u001b[0m \u001b[0mvalue\u001b[0m\u001b[0;34m)\u001b[0m \u001b[0;34m->\u001b[0m \u001b[0;32mNone\u001b[0m\u001b[0;34m:\u001b[0m\u001b[0;34m\u001b[0m\u001b[0;34m\u001b[0m\u001b[0m\n",
            "\u001b[0;31mAttributeError\u001b[0m: 'DataFrame' object has no attribute 'E1'"
          ]
        }
      ],
      "source": [
        "df_new = df[(df.E1.between(0,10)) & (df.E2.between(0,10))]\n",
        "df_new"
      ]
    },
    {
      "cell_type": "code",
      "execution_count": null,
      "metadata": {
        "colab": {
          "base_uri": "https://localhost:8080/"
        },
        "id": "ZGwJCt7l-cvB",
        "outputId": "b28aaf6b-83b4-4060-b3f3-2d7da2d0a158"
      },
      "outputs": [
        {
          "data": {
            "text/plain": [
              "array([[ 9.37225151e+00, -3.50894403e+00],\n",
              "       [ 8.70446205e+00, -3.51018596e+00],\n",
              "       [ 1.76092377e+01, -2.40956860e+01],\n",
              "       [-3.14253254e+01,  7.90774822e+00],\n",
              "       [-1.92918606e+01, -2.47875462e+01],\n",
              "       [-1.77360803e-01,  3.16674042e+00],\n",
              "       [ 3.40054169e+01,  7.42848206e+00],\n",
              "       [ 9.25701141e+00, -2.82563019e+00],\n",
              "       [ 1.56738052e+01, -2.37343979e+01],\n",
              "       [-3.35049667e+01,  6.15897036e+00],\n",
              "       [ 3.50590172e+01,  7.00421715e+00],\n",
              "       [ 8.86810970e+00, -2.90420890e+00],\n",
              "       [-1.86290264e+01, -2.48371754e+01],\n",
              "       [-5.66632366e+00,  7.49771452e+00],\n",
              "       [ 9.41889286e+00, -3.56406975e+00],\n",
              "       [ 3.51376152e+01,  8.53960228e+00],\n",
              "       [-1.83045940e+01, -2.44951725e+01],\n",
              "       [-3.17879601e+01,  6.74131298e+00],\n",
              "       [ 1.61196041e+01, -2.39770756e+01],\n",
              "       [-9.12891197e+00,  8.72942352e+00],\n",
              "       [ 3.37233543e+01,  9.38035679e+00],\n",
              "       [ 2.21851453e-01,  1.10496473e+00],\n",
              "       [-1.60308361e+00,  9.91000295e-01],\n",
              "       [ 3.40024872e+01,  8.97478962e+00],\n",
              "       [-1.90664444e+01, -2.45973740e+01],\n",
              "       [-1.71560116e+01, -2.53359737e+01],\n",
              "       [-1.71335220e+01, -2.42127399e+01],\n",
              "       [ 3.42072334e+01,  9.07535458e+00],\n",
              "       [ 3.42655373e+01,  7.85722780e+00],\n",
              "       [-3.30203705e+01,  7.66320944e+00],\n",
              "       [ 1.45228040e+00,  5.28494596e-01],\n",
              "       [-1.72909946e+01, -2.54779606e+01],\n",
              "       [ 3.31535530e+01,  9.44716930e+00],\n",
              "       [-3.23526115e+01,  7.11177111e+00],\n",
              "       [-9.22914505e+00,  8.67906475e+00],\n",
              "       [ 5.28827763e+00,  2.76531048e+01],\n",
              "       [-2.82831836e+00,  1.03519082e+00],\n",
              "       [ 8.13559818e+00, -2.87303948e+00],\n",
              "       [ 4.64096934e-01,  9.17415202e-01],\n",
              "       [ 9.24523926e+00, -3.52389956e+00],\n",
              "       [-1.71474743e+01, -2.44681435e+01],\n",
              "       [ 2.62273908e-01,  1.87438321e+00],\n",
              "       [-3.16692982e+01,  6.53322887e+00],\n",
              "       [-1.90278149e+01, -2.35082283e+01],\n",
              "       [ 1.56190033e+01, -2.52045059e+01],\n",
              "       [-1.09121609e+00,  1.52020025e+00],\n",
              "       [-1.63666325e+01, -2.47334595e+01],\n",
              "       [ 8.73738670e+00, -3.57514596e+00],\n",
              "       [-1.92430706e+01, -2.45152721e+01],\n",
              "       [ 1.49369895e+00,  4.02537972e-01],\n",
              "       [-1.72191582e+01, -2.52496300e+01],\n",
              "       [ 5.37048531e+00,  2.91413841e+01],\n",
              "       [-7.93846798e+00,  7.48488808e+00],\n",
              "       [-1.59713364e+00,  1.15388632e+00],\n",
              "       [ 9.41889191e+00, -3.56406951e+00],\n",
              "       [-1.84298458e+01, -2.33612328e+01],\n",
              "       [-5.65221214e+00,  7.48980427e+00],\n",
              "       [ 1.61811180e+01, -2.41111317e+01],\n",
              "       [ 1.63150425e+01, -2.47308483e+01],\n",
              "       [-9.66775799e+00,  8.84556198e+00],\n",
              "       [-2.92517447e+00,  1.00959909e+00],\n",
              "       [-3.19030228e+01,  8.00185299e+00],\n",
              "       [-3.11063862e+01,  7.78252077e+00],\n",
              "       [ 5.28878689e+00,  2.76556606e+01],\n",
              "       [ 1.52566767e+01, -2.41428757e+01],\n",
              "       [ 3.45032921e+01,  8.83690739e+00],\n",
              "       [-7.16127825e+00,  8.37758160e+00],\n",
              "       [-1.68710232e+00,  1.13317394e+00],\n",
              "       [ 4.69961882e+00,  2.82805138e+01],\n",
              "       [ 8.14611721e+00, -3.33537936e+00],\n",
              "       [ 6.81970739e+00, -3.01322746e+00],\n",
              "       [ 8.31184387e+00, -3.18012762e+00],\n",
              "       [ 9.10779667e+00, -3.56451321e+00],\n",
              "       [-1.17552078e+00,  1.60704887e+00],\n",
              "       [-3.18217449e+01,  6.80098581e+00],\n",
              "       [ 4.39121437e+00,  2.81505241e+01],\n",
              "       [-6.79208183e+00,  8.41730022e+00],\n",
              "       [ 3.25942459e+01,  7.48378897e+00],\n",
              "       [ 3.64561462e+00,  2.79777069e+01],\n",
              "       [ 1.52237101e+01, -2.42267094e+01],\n",
              "       [-7.39918900e+00,  8.43692303e+00],\n",
              "       [-1.70552158e+01, -2.42352390e+01],\n",
              "       [ 1.02908695e+00,  7.44911015e-01],\n",
              "       [-7.38017464e+00,  8.38463688e+00],\n",
              "       [ 7.34041929e+00, -3.21025443e+00],\n",
              "       [-2.74395895e+00,  7.13759661e-01],\n",
              "       [-1.63024979e+01, -2.45181065e+01],\n",
              "       [ 1.53542213e+01, -2.41121712e+01],\n",
              "       [-3.11890011e+01,  8.02536774e+00],\n",
              "       [-1.33206451e+00,  1.09829557e+00],\n",
              "       [-3.16053905e+01,  7.26806498e+00],\n",
              "       [ 2.19761550e-01,  2.86103058e+00],\n",
              "       [ 3.47918701e+01,  8.12130260e+00],\n",
              "       [-3.02253532e+01,  6.47619057e+00],\n",
              "       [-3.21519966e+01,  6.48596573e+00],\n",
              "       [-3.12944851e+01,  7.09690714e+00],\n",
              "       [ 3.39566078e+01,  7.73099375e+00],\n",
              "       [-1.67733347e+00,  1.00511706e+00],\n",
              "       [ 4.99592447e+00,  2.75113411e+01],\n",
              "       [ 1.69185562e+01, -2.42947674e+01],\n",
              "       [ 4.50316429e+00,  2.76714230e+01],\n",
              "       [-1.12203550e+00,  1.60655439e+00],\n",
              "       [ 3.25693130e+01,  6.84023380e+00],\n",
              "       [ 4.80371857e+00,  2.75167313e+01],\n",
              "       [ 4.69512415e+00,  2.81639214e+01],\n",
              "       [-1.83173287e+00,  1.78207636e+00],\n",
              "       [-1.83345337e+01, -2.51740017e+01],\n",
              "       [ 1.50695324e+01, -2.37889595e+01],\n",
              "       [-2.53661561e+00,  2.86641181e-01],\n",
              "       [ 9.65262234e-01,  1.68834999e-02],\n",
              "       [ 1.63494511e+01, -2.48094044e+01],\n",
              "       [-1.78978558e+01, -2.31885967e+01],\n",
              "       [-9.30955887e+00,  8.64695168e+00],\n",
              "       [ 8.25976849e+00, -3.20686698e+00],\n",
              "       [-7.64418173e+00,  8.60270500e+00],\n",
              "       [-9.98116970e+00,  8.82205296e+00],\n",
              "       [-3.12447786e+00,  5.72026372e-01],\n",
              "       [-3.28222618e+01,  7.39802694e+00],\n",
              "       [-3.24172974e+01,  7.16101456e+00],\n",
              "       [ 3.52767396e+00,  2.68946018e+01],\n",
              "       [ 3.35810204e+01,  7.89333820e+00],\n",
              "       [ 3.43664665e+01,  8.19511414e+00],\n",
              "       [-1.22692418e+00,  1.56344402e+00],\n",
              "       [-1.13844776e+00,  2.03278208e+00],\n",
              "       [ 3.65669370e+00,  2.69766808e+01],\n",
              "       [-3.18875523e+01,  6.48413992e+00],\n",
              "       [-1.87550011e+01, -2.46302814e+01],\n",
              "       [-1.93410110e+01, -2.47261219e+01],\n",
              "       [ 4.03579807e+00,  2.84250050e+01],\n",
              "       [-1.87751681e-01,  3.11832094e+00],\n",
              "       [-3.14612961e+01,  7.73495531e+00],\n",
              "       [ 1.52911959e+01, -2.47034359e+01],\n",
              "       [ 8.23832607e+00, -2.49548054e+00],\n",
              "       [ 5.11570024e+00,  2.77519093e+01],\n",
              "       [ 4.67608595e+00,  2.72248154e+01],\n",
              "       [ 4.62449884e+00,  2.83390427e+01],\n",
              "       [ 8.92263603e+00, -3.17790556e+00],\n",
              "       [ 1.46970301e+01, -2.33040047e+01],\n",
              "       [ 9.37824535e+00, -2.77868938e+00],\n",
              "       [ 8.68354034e+00, -3.66694283e+00],\n",
              "       [ 3.37898331e+01,  8.44323921e+00],\n",
              "       [-7.58457804e+00,  8.27196312e+00],\n",
              "       [-9.20604324e+00,  8.76789570e+00],\n",
              "       [ 1.63665657e+01, -2.48585701e+01],\n",
              "       [-2.57686543e+00,  2.73100305e+00],\n",
              "       [-3.11382885e+01,  7.33303547e+00],\n",
              "       [ 1.63150024e+01, -2.47312756e+01],\n",
              "       [ 3.39691772e+01,  8.71049690e+00],\n",
              "       [-3.36083641e+01,  6.06985188e+00],\n",
              "       [-2.14713240e+00,  1.53353131e+00],\n",
              "       [ 1.89288068e+00,  2.13199019e-01],\n",
              "       [ 5.64238310e+00,  2.85494423e+01],\n",
              "       [ 3.84879184e+00,  2.85144005e+01],\n",
              "       [ 9.55486774e+00, -2.83528662e+00],\n",
              "       [ 1.62875443e+01, -2.47974377e+01],\n",
              "       [ 1.40125692e+00,  1.44289947e+00],\n",
              "       [ 1.54713898e+01, -2.28956852e+01],\n",
              "       [ 3.47780266e+01,  9.57816792e+00],\n",
              "       [-3.19541645e+01,  8.29603195e+00],\n",
              "       [-3.37028599e+00,  5.58411419e-01],\n",
              "       [ 7.75837278e+00, -2.44358730e+00],\n",
              "       [-3.19120770e+01,  5.20232105e+00],\n",
              "       [ 1.56635695e+01, -2.52111244e+01],\n",
              "       [ 1.68971233e+01, -2.45948582e+01],\n",
              "       [ 3.42824783e+01,  8.37541008e+00],\n",
              "       [-1.90053864e+01, -2.47345314e+01],\n",
              "       [ 5.29640722e+00,  2.77166862e+01],\n",
              "       [-3.22611451e+00,  5.49543142e-01],\n",
              "       [-3.21831169e+01,  7.40901470e+00],\n",
              "       [-1.83056011e+01, -2.51531124e+01],\n",
              "       [-7.36565447e+00,  8.48797798e+00],\n",
              "       [-3.19155502e+01,  5.19771290e+00],\n",
              "       [-1.87831478e+01, -2.36895485e+01],\n",
              "       [-1.68394661e+01, -2.46361847e+01],\n",
              "       [-1.20497084e+00,  1.80770969e+00],\n",
              "       [ 8.71294594e+00, -2.32551241e+00],\n",
              "       [ 3.43243141e+01,  7.72261477e+00],\n",
              "       [-3.12708044e+00,  6.46020651e-01],\n",
              "       [-3.15101929e+01,  7.31822681e+00],\n",
              "       [ 1.63689346e+01, -2.50839653e+01],\n",
              "       [-3.52748752e+00,  7.21649885e-01],\n",
              "       [ 8.38498846e-02,  1.02530801e+00],\n",
              "       [-8.28995609e+00,  8.56184006e+00],\n",
              "       [-1.72564659e+01, -2.44598503e+01],\n",
              "       [ 3.15459776e+00,  2.56363106e+01],\n",
              "       [ 1.52256069e+01, -2.43774033e+01],\n",
              "       [-3.12766876e+01,  5.76890898e+00],\n",
              "       [-3.12375283e+00,  5.71883619e-01],\n",
              "       [-3.27422981e+01,  7.23641968e+00],\n",
              "       [-1.92958393e+01, -2.37908039e+01],\n",
              "       [ 2.60078490e-01,  1.34409428e+00],\n",
              "       [-7.58316422e+00,  8.33988094e+00],\n",
              "       [-3.24351501e+01,  7.18415165e+00],\n",
              "       [-3.18715897e+01,  7.98957825e+00],\n",
              "       [ 3.48038445e+01,  9.17855263e+00],\n",
              "       [-6.47880435e-02,  2.97124076e+00],\n",
              "       [ 3.43353271e+01,  7.31293964e+00],\n",
              "       [-6.80609798e+00,  8.42304325e+00],\n",
              "       [-3.18744030e+01,  7.97013092e+00],\n",
              "       [ 9.42846012e+00, -2.11965704e+00],\n",
              "       [ 3.48786888e+01,  9.61564827e+00],\n",
              "       [-9.43454742e+00,  8.62722301e+00],\n",
              "       [-9.20445633e+00,  8.62086391e+00],\n",
              "       [ 5.29640722e+00,  2.77166862e+01],\n",
              "       [ 1.63551502e+01, -2.48419437e+01],\n",
              "       [-7.24107075e+00,  8.22571659e+00],\n",
              "       [-9.32145023e+00,  8.95501041e+00],\n",
              "       [-1.68404331e+01, -2.46362114e+01],\n",
              "       [-1.71222134e+01, -2.45200787e+01],\n",
              "       [ 3.36814384e+01,  8.00724316e+00],\n",
              "       [-9.70956516e+00,  8.83307457e+00],\n",
              "       [ 9.07234669e+00, -3.78077292e+00],\n",
              "       [ 3.33497887e+01,  7.21749306e+00],\n",
              "       [-9.78865242e+00,  8.91716099e+00],\n",
              "       [ 9.41889191e+00, -3.56406975e+00],\n",
              "       [ 5.35546207e+00,  2.81165924e+01],\n",
              "       [ 3.12798500e+00,  2.60948925e+01],\n",
              "       [-3.08579445e+01,  7.33282471e+00],\n",
              "       [-3.15420208e+01,  6.11445808e+00],\n",
              "       [-8.79066646e-01,  2.68739462e+00],\n",
              "       [ 3.32889214e+01,  9.18070030e+00],\n",
              "       [ 1.45948381e+01, -2.32099056e+01],\n",
              "       [ 3.43934746e+01,  9.43121624e+00],\n",
              "       [-3.24139881e+00,  5.35708129e-01],\n",
              "       [ 3.60124254e+00,  2.69101562e+01],\n",
              "       [ 1.60142155e+01, -2.48013000e+01],\n",
              "       [ 3.36821899e+01,  7.68647099e+00],\n",
              "       [ 3.39824829e+01,  7.85839462e+00],\n",
              "       [ 2.42364430e+00,  8.10704380e-03],\n",
              "       [-1.79987919e+00,  1.05703306e+00],\n",
              "       [ 4.43691921e+00,  2.95675240e+01],\n",
              "       [ 1.47303715e+01, -2.34160824e+01],\n",
              "       [ 5.05661726e+00,  2.81460381e+01],\n",
              "       [-1.69331627e+01, -2.52811947e+01],\n",
              "       [ 1.68817520e+01, -2.33417988e+01],\n",
              "       [ 5.40923882e+00,  2.78991871e+01],\n",
              "       [-7.49424839e+00,  8.19283199e+00],\n",
              "       [-9.67908478e+00,  8.49064064e+00],\n",
              "       [-7.47018909e+00,  8.42679882e+00],\n",
              "       [ 3.28584900e+01,  8.36020851e+00],\n",
              "       [ 1.54157314e+01, -2.24171333e+01],\n",
              "       [-1.72917175e+01, -2.54769917e+01],\n",
              "       [ 1.61980095e+01, -2.35678978e+01],\n",
              "       [-1.80138817e+01, -2.39604568e+01],\n",
              "       [-3.17615795e+01,  6.26023769e+00],\n",
              "       [ 4.48240614e+00,  2.76660862e+01],\n",
              "       [ 3.58586097e+00,  2.68620434e+01],\n",
              "       [ 1.53808842e+01, -2.29372196e+01],\n",
              "       [-9.41160965e+00,  8.62170982e+00],\n",
              "       [-1.89191875e+01, -2.35928173e+01],\n",
              "       [ 1.42487650e+01, -2.32034931e+01],\n",
              "       [-1.81254826e+01, -2.39711990e+01],\n",
              "       [-3.19030819e+01,  8.00335407e+00],\n",
              "       [-3.35636711e+01,  6.44649601e+00],\n",
              "       [ 3.43867912e+01,  7.68539715e+00],\n",
              "       [ 4.82052279e+00,  2.80573311e+01],\n",
              "       [ 3.15605402e+00,  2.56595612e+01],\n",
              "       [ 3.43792496e+01,  8.52167320e+00],\n",
              "       [ 1.58328905e+01, -2.39364338e+01],\n",
              "       [ 2.83891630e+00,  2.66181622e+01],\n",
              "       [-1.85334034e+01, -2.37127190e+01],\n",
              "       [-1.29175985e+00,  1.68805337e+00],\n",
              "       [-1.72501163e+01, -2.51263523e+01],\n",
              "       [ 3.41156082e+01,  9.66790676e+00],\n",
              "       [-3.76549304e-01,  7.10637987e-01],\n",
              "       [-1.68405533e+01, -2.46362190e+01],\n",
              "       [ 1.44233761e+01, -2.32694588e+01],\n",
              "       [-3.17941017e+01,  7.45335674e+00],\n",
              "       [ 3.26189957e+01,  8.24181271e+00],\n",
              "       [ 8.25358963e+00, -1.22159934e+00],\n",
              "       [ 8.70965481e+00, -3.57452583e+00],\n",
              "       [ 3.25294456e+01,  7.94602203e+00],\n",
              "       [-1.18392932e+00,  1.66746581e+00],\n",
              "       [-1.68698864e+01, -2.53175297e+01],\n",
              "       [ 7.47868490e+00, -3.16175628e+00],\n",
              "       [ 1.61201057e+01, -2.40473118e+01],\n",
              "       [-9.27414513e+00,  9.03845024e+00],\n",
              "       [-3.19457245e+01,  7.41950321e+00],\n",
              "       [ 5.71057177e+00,  2.91562843e+01],\n",
              "       [-7.37381458e+00,  8.25127411e+00],\n",
              "       [ 4.61239052e+00,  2.82547913e+01],\n",
              "       [-1.73169117e+01, -2.46400738e+01],\n",
              "       [-1.46046472e+00,  1.65532815e+00],\n",
              "       [ 3.40714455e+01,  7.87449312e+00],\n",
              "       [ 8.80232334e+00, -4.33402395e+00],\n",
              "       [-1.93588448e+01, -2.43649235e+01],\n",
              "       [ 3.26801567e+01,  8.39243507e+00],\n",
              "       [ 1.73316494e-01,  1.14959431e+00],\n",
              "       [ 5.02632236e+00,  2.75695095e+01],\n",
              "       [-3.08636551e+01,  6.67588377e+00],\n",
              "       [-1.74421406e+01, -2.39643745e+01],\n",
              "       [ 1.27549505e+00,  1.43985474e+00],\n",
              "       [ 1.61513100e+01, -2.24077053e+01],\n",
              "       [ 8.95418072e+00, -3.15419650e+00],\n",
              "       [ 3.90690804e+00,  2.78015099e+01],\n",
              "       [-1.37618184e-01,  5.07927954e-01],\n",
              "       [-7.88991165e+00,  8.37548065e+00],\n",
              "       [ 8.16285849e-01,  8.57495844e-01],\n",
              "       [-2.21253157e+00, -8.32024515e-01],\n",
              "       [ 5.05345631e+00,  2.85040131e+01],\n",
              "       [ 1.50280437e+01, -2.33437729e+01],\n",
              "       [ 1.70503216e+01, -2.39165745e+01],\n",
              "       [ 1.54084549e+01, -2.24220676e+01],\n",
              "       [-7.31411457e+00,  8.54621983e+00],\n",
              "       [ 9.37824535e+00, -2.77868915e+00],\n",
              "       [ 3.36184464e+01,  7.46574402e+00],\n",
              "       [-1.69261398e+01, -2.53017502e+01],\n",
              "       [ 9.37824535e+00, -2.77868915e+00],\n",
              "       [ 8.81819916e+00, -2.87626290e+00],\n",
              "       [ 1.58254604e+01, -2.52494621e+01],\n",
              "       [-3.35953865e+01,  6.42586040e+00],\n",
              "       [ 4.46228409e+00,  2.78097858e+01],\n",
              "       [ 3.38705521e+01,  8.22813606e+00],\n",
              "       [ 3.48938408e+01,  9.17564392e+00],\n",
              "       [-9.35928917e+00,  8.65933895e+00],\n",
              "       [ 4.49190140e+00,  2.76665173e+01],\n",
              "       [ 9.40021515e+00, -2.81353903e+00],\n",
              "       [-2.50246906e+00,  2.25620151e+00],\n",
              "       [-3.26225739e+01,  6.94187975e+00],\n",
              "       [ 1.61368446e+01, -2.34249744e+01]], dtype=float32)"
            ]
          },
          "execution_count": 26,
          "metadata": {},
          "output_type": "execute_result"
        }
      ],
      "source": [
        "X_embedded"
      ]
    },
    {
      "cell_type": "markdown",
      "metadata": {
        "id": "9aX5qHo896In"
      },
      "source": [
        "Designed by Yasser MOHSENI BEHBAHANI and Élodie LAINE, LCQB, Sorbonne Université, 2022\n",
        "\n",
        "<img src='https://drive.google.com/uc?id=1shvaqXgnRa2aCji30gJ02hwI_Ux6NEp6'>"
      ]
    },
    {
      "cell_type": "code",
      "execution_count": null,
      "metadata": {
        "id": "md-xwXPU98Kw"
      },
      "outputs": [],
      "source": [
        ""
      ]
    }
  ],
  "metadata": {
    "accelerator": "GPU",
    "colab": {
      "collapsed_sections": [],
      "name": "iBio_SummerSchool_PLM.ipynb",
      "provenance": [],
      "include_colab_link": true
    },
    "gpuClass": "standard",
    "kernelspec": {
      "display_name": "Python 3",
      "language": "python",
      "name": "python3"
    },
    "language_info": {
      "codemirror_mode": {
        "name": "ipython",
        "version": 3
      },
      "file_extension": ".py",
      "mimetype": "text/x-python",
      "name": "python",
      "nbconvert_exporter": "python",
      "pygments_lexer": "ipython3",
      "version": "3.6.9"
    }
  },
  "nbformat": 4,
  "nbformat_minor": 0
}